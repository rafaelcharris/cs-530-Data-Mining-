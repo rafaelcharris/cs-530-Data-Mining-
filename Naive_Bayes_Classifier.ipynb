{
  "cells": [
    {
      "cell_type": "code",
      "execution_count": null,
      "metadata": {
        "colab": {
          "base_uri": "https://localhost:8080/",
          "height": 455
        },
        "id": "UehziPFyFEDY",
        "outputId": "ee8ddbaa-a3e9-4c08-816f-56629375899b"
      },
      "outputs": [
        {
          "data": {
            "text/html": [
              "<div>\n",
              "<style scoped>\n",
              "    .dataframe tbody tr th:only-of-type {\n",
              "        vertical-align: middle;\n",
              "    }\n",
              "\n",
              "    .dataframe tbody tr th {\n",
              "        vertical-align: top;\n",
              "    }\n",
              "\n",
              "    .dataframe thead th {\n",
              "        text-align: right;\n",
              "    }\n",
              "</style>\n",
              "<table border=\"1\" class=\"dataframe\">\n",
              "  <thead>\n",
              "    <tr style=\"text-align: right;\">\n",
              "      <th></th>\n",
              "      <th>class</th>\n",
              "      <th>age</th>\n",
              "      <th>menopause</th>\n",
              "      <th>tumor-size</th>\n",
              "      <th>inv-nodes</th>\n",
              "      <th>node-caps</th>\n",
              "      <th>deg-malig</th>\n",
              "      <th>breast</th>\n",
              "      <th>breast-quad</th>\n",
              "      <th>irradiat</th>\n",
              "    </tr>\n",
              "    <tr>\n",
              "      <th>id</th>\n",
              "      <th></th>\n",
              "      <th></th>\n",
              "      <th></th>\n",
              "      <th></th>\n",
              "      <th></th>\n",
              "      <th></th>\n",
              "      <th></th>\n",
              "      <th></th>\n",
              "      <th></th>\n",
              "      <th></th>\n",
              "    </tr>\n",
              "  </thead>\n",
              "  <tbody>\n",
              "    <tr>\n",
              "      <th>1</th>\n",
              "      <td>no-recurrence-events</td>\n",
              "      <td>30-39</td>\n",
              "      <td>premeno</td>\n",
              "      <td>30-34</td>\n",
              "      <td>0-2</td>\n",
              "      <td>no</td>\n",
              "      <td>3</td>\n",
              "      <td>left</td>\n",
              "      <td>left_low</td>\n",
              "      <td>no</td>\n",
              "    </tr>\n",
              "    <tr>\n",
              "      <th>2</th>\n",
              "      <td>no-recurrence-events</td>\n",
              "      <td>40-49</td>\n",
              "      <td>premeno</td>\n",
              "      <td>20-24</td>\n",
              "      <td>0-2</td>\n",
              "      <td>no</td>\n",
              "      <td>2</td>\n",
              "      <td>right</td>\n",
              "      <td>right_up</td>\n",
              "      <td>no</td>\n",
              "    </tr>\n",
              "    <tr>\n",
              "      <th>3</th>\n",
              "      <td>no-recurrence-events</td>\n",
              "      <td>40-49</td>\n",
              "      <td>premeno</td>\n",
              "      <td>20-24</td>\n",
              "      <td>0-2</td>\n",
              "      <td>no</td>\n",
              "      <td>2</td>\n",
              "      <td>left</td>\n",
              "      <td>left_low</td>\n",
              "      <td>no</td>\n",
              "    </tr>\n",
              "    <tr>\n",
              "      <th>4</th>\n",
              "      <td>no-recurrence-events</td>\n",
              "      <td>60-69</td>\n",
              "      <td>ge40</td>\n",
              "      <td>15-19</td>\n",
              "      <td>0-2</td>\n",
              "      <td>no</td>\n",
              "      <td>2</td>\n",
              "      <td>right</td>\n",
              "      <td>left_up</td>\n",
              "      <td>no</td>\n",
              "    </tr>\n",
              "    <tr>\n",
              "      <th>5</th>\n",
              "      <td>no-recurrence-events</td>\n",
              "      <td>40-49</td>\n",
              "      <td>premeno</td>\n",
              "      <td>0-4</td>\n",
              "      <td>0-2</td>\n",
              "      <td>no</td>\n",
              "      <td>2</td>\n",
              "      <td>right</td>\n",
              "      <td>right_low</td>\n",
              "      <td>no</td>\n",
              "    </tr>\n",
              "    <tr>\n",
              "      <th>...</th>\n",
              "      <td>...</td>\n",
              "      <td>...</td>\n",
              "      <td>...</td>\n",
              "      <td>...</td>\n",
              "      <td>...</td>\n",
              "      <td>...</td>\n",
              "      <td>...</td>\n",
              "      <td>...</td>\n",
              "      <td>...</td>\n",
              "      <td>...</td>\n",
              "    </tr>\n",
              "    <tr>\n",
              "      <th>282</th>\n",
              "      <td>recurrence-events</td>\n",
              "      <td>30-39</td>\n",
              "      <td>premeno</td>\n",
              "      <td>30-34</td>\n",
              "      <td>0-2</td>\n",
              "      <td>no</td>\n",
              "      <td>2</td>\n",
              "      <td>left</td>\n",
              "      <td>left_up</td>\n",
              "      <td>no</td>\n",
              "    </tr>\n",
              "    <tr>\n",
              "      <th>283</th>\n",
              "      <td>recurrence-events</td>\n",
              "      <td>30-39</td>\n",
              "      <td>premeno</td>\n",
              "      <td>20-24</td>\n",
              "      <td>0-2</td>\n",
              "      <td>no</td>\n",
              "      <td>3</td>\n",
              "      <td>left</td>\n",
              "      <td>left_up</td>\n",
              "      <td>yes</td>\n",
              "    </tr>\n",
              "    <tr>\n",
              "      <th>284</th>\n",
              "      <td>recurrence-events</td>\n",
              "      <td>60-69</td>\n",
              "      <td>ge40</td>\n",
              "      <td>20-24</td>\n",
              "      <td>0-2</td>\n",
              "      <td>no</td>\n",
              "      <td>1</td>\n",
              "      <td>right</td>\n",
              "      <td>left_up</td>\n",
              "      <td>no</td>\n",
              "    </tr>\n",
              "    <tr>\n",
              "      <th>285</th>\n",
              "      <td>recurrence-events</td>\n",
              "      <td>40-49</td>\n",
              "      <td>ge40</td>\n",
              "      <td>30-34</td>\n",
              "      <td>3-5</td>\n",
              "      <td>no</td>\n",
              "      <td>3</td>\n",
              "      <td>left</td>\n",
              "      <td>left_low</td>\n",
              "      <td>no</td>\n",
              "    </tr>\n",
              "    <tr>\n",
              "      <th>286</th>\n",
              "      <td>recurrence-events</td>\n",
              "      <td>50-59</td>\n",
              "      <td>ge40</td>\n",
              "      <td>30-34</td>\n",
              "      <td>3-5</td>\n",
              "      <td>no</td>\n",
              "      <td>3</td>\n",
              "      <td>left</td>\n",
              "      <td>left_low</td>\n",
              "      <td>no</td>\n",
              "    </tr>\n",
              "  </tbody>\n",
              "</table>\n",
              "<p>286 rows × 10 columns</p>\n",
              "</div>"
            ],
            "text/plain": [
              "                    class    age menopause tumor-size inv-nodes node-caps  \\\n",
              "id                                                                          \n",
              "1    no-recurrence-events  30-39   premeno      30-34       0-2        no   \n",
              "2    no-recurrence-events  40-49   premeno      20-24       0-2        no   \n",
              "3    no-recurrence-events  40-49   premeno      20-24       0-2        no   \n",
              "4    no-recurrence-events  60-69      ge40      15-19       0-2        no   \n",
              "5    no-recurrence-events  40-49   premeno        0-4       0-2        no   \n",
              "..                    ...    ...       ...        ...       ...       ...   \n",
              "282     recurrence-events  30-39   premeno      30-34       0-2        no   \n",
              "283     recurrence-events  30-39   premeno      20-24       0-2        no   \n",
              "284     recurrence-events  60-69      ge40      20-24       0-2        no   \n",
              "285     recurrence-events  40-49      ge40      30-34       3-5        no   \n",
              "286     recurrence-events  50-59      ge40      30-34       3-5        no   \n",
              "\n",
              "     deg-malig breast breast-quad  irradiat  \n",
              "id                                           \n",
              "1            3   left    left_low        no  \n",
              "2            2  right    right_up        no  \n",
              "3            2   left    left_low        no  \n",
              "4            2  right     left_up        no  \n",
              "5            2  right   right_low        no  \n",
              "..         ...    ...         ...       ...  \n",
              "282          2   left     left_up        no  \n",
              "283          3   left     left_up       yes  \n",
              "284          1  right     left_up        no  \n",
              "285          3   left    left_low        no  \n",
              "286          3   left    left_low        no  \n",
              "\n",
              "[286 rows x 10 columns]"
            ]
          },
          "execution_count": 94,
          "metadata": {},
          "output_type": "execute_result"
        }
      ],
      "source": [
        "import pandas as pd\n",
        "import numpy as np\n",
        "import matplotlib.pyplot as plt\n",
        "from sklearn.metrics import roc_curve, auc\n",
        "from sklearn.naive_bayes import CategoricalNB\n",
        "from sklearn import preprocessing\n",
        "\n",
        "\n",
        "df = pd.read_csv('breast-cancer.data', \n",
        "                 header = None, \n",
        "                 names= [\"class\", \"age\", \"menopause\", \"tumor-size\", \"inv-nodes\",\n",
        "                         \"node-caps\", \"deg-malig\", \"breast\", \"breast-quad\", \" irradiat\"])\n",
        "# Create id column\n",
        "df['id'] = pd.Series([i +1 for i in range(len(df))])\n",
        "df.set_index('id')"
      ]
    },
    {
      "cell_type": "markdown",
      "metadata": {},
      "source": [
        "Because the clasifier has problems when certain groups are very small,  we have to check how are each level of the variables distributed between the two levels of the variable `class`. If certain groups are very small, the classifier would work better by grouping small groups into bigger groups."
      ]
    },
    {
      "cell_type": "code",
      "execution_count": null,
      "metadata": {
        "colab": {
          "base_uri": "https://localhost:8080/"
        },
        "id": "3w-I0-QRuw8O",
        "outputId": "f960b709-d47e-418d-f26e-dea23b275b63"
      },
      "outputs": [
        {
          "name": "stdout",
          "output_type": "stream",
          "text": [
            "class  no-recurrence-events  recurrence-events\n",
            "age                                           \n",
            "20-29                     1                  0\n",
            "30-39                    21                 15\n",
            "40-49                    63                 27\n",
            "50-59                    71                 25\n",
            "60-69                    40                 17\n",
            "70-79                     5                  1 \n",
            "\n",
            "class      no-recurrence-events  recurrence-events\n",
            "menopause                                         \n",
            "ge40                         94                 35\n",
            "lt40                          5                  2\n",
            "premeno                     102                 48 \n",
            "\n",
            "class       no-recurrence-events  recurrence-events\n",
            "tumor-size                                         \n",
            "0-4                            7                  1\n",
            "10-14                         27                  1\n",
            "15-19                         23                  7\n",
            "20-24                         34                 16\n",
            "25-29                         36                 18\n",
            "30-34                         35                 25\n",
            "35-39                         12                  7\n",
            "40-44                         16                  6\n",
            "45-49                          2                  1\n",
            "5-9                            4                  0\n",
            "50-54                          5                  3 \n",
            "\n",
            "class      no-recurrence-events  recurrence-events\n",
            "inv-nodes                                         \n",
            "0-2                         167                 46\n",
            "12-14                         1                  2\n",
            "15-17                         3                  3\n",
            "24-26                         0                  1\n",
            "3-5                          19                 17\n",
            "6-8                           7                 10\n",
            "9-11                          4                  6 \n",
            "\n",
            "class      no-recurrence-events  recurrence-events\n",
            "node-caps                                         \n",
            "?                             5                  3\n",
            "no                          171                 51\n",
            "yes                          25                 31 \n",
            "\n"
          ]
        }
      ],
      "source": [
        "print(pd.crosstab(df['age'], df['class']), \"\\n\")\n",
        "print(pd.crosstab(df['menopause'], df['class']), \"\\n\")\n",
        "print(pd.crosstab(df['tumor-size'], df['class']), \"\\n\")\n",
        "print(pd.crosstab(df['inv-nodes'], df['class']), \"\\n\")\n",
        "print(pd.crosstab(df['node-caps'], df['class']), \"\\n\")"
      ]
    },
    {
      "cell_type": "markdown",
      "metadata": {
        "id": "P5LNj-DMw3bC"
      },
      "source": [
        "I will merge the variables where there is very few data points so the classifier does not have any problems."
      ]
    },
    {
      "cell_type": "code",
      "execution_count": null,
      "metadata": {
        "colab": {
          "base_uri": "https://localhost:8080/"
        },
        "id": "_yFH9zpJw1Gc",
        "outputId": "6d4307c6-9b97-452b-ea65-5fcf3ac7997d"
      },
      "outputs": [],
      "source": [
        "def tumor_merge(row):\n",
        "  '''\n",
        "  Reclassify the tumor variable to have bigger groups\n",
        "  '''\n",
        "  if row == \"5-9\" or row == \"0-4\":\n",
        "    return \"0-9\"\n",
        "  elif row == \"50-54\" or row == \"45-49\":\n",
        "    return \"45-54\"\n",
        "  else:\n",
        "    return row\n",
        "\n",
        "def nodes_merge(row):\n",
        "  '''\n",
        "  Reclassify the inv-nodes variable to have bigger groups\n",
        "  '''\n",
        "  if row == \"9-11\" or row == \"12-14\" or row == \"15-17\" or row ==\"24-26\":\n",
        "    return \"=> 9\"\n",
        "  else:\n",
        "    return row\n",
        "\n",
        "def age_merge(row):\n",
        "  '''\n",
        "  Merge age groups so each group is bigger \n",
        "  '''\n",
        "  if row == \"20-29\" or row == \"30-39\":\n",
        "    return \"20-39\"\n",
        "  elif row == \"60-69\" or row == \"70-79\":\n",
        "    return \"60-79\"\n",
        "  else:\n",
        "    return row\n",
        "\n",
        "def meno_merge(row):\n",
        "  '''\n",
        "  Group together lt40 and ge40 to create bigger groups\n",
        "  '''\n",
        "  if row == \"lt40\" or row == \"ge40\":\n",
        "    return \"ge40\"\n",
        "  else:\n",
        "    return \"premeno\"\n",
        "\n",
        "# Filter out the 8 rows that have \"?\" in node-caps\n",
        "df = df[df[\"node-caps\"] != \"?\"]\n",
        "\n",
        "# Apply the functions to the data frame\n",
        "df.loc[:,\"age\"] = df[\"age\"].apply(lambda x: age_merge(x))\n",
        "df.loc[:,\"inv-nodes\"] = df[\"inv-nodes\"].apply(lambda x: nodes_merge(x))\n",
        "df.loc[:,\"tumor-size\"] = df[\"tumor-size\"].apply(lambda x: tumor_merge(x))\n",
        "df.loc[:,\"menopause\"] = df[\"menopause\"].apply(lambda x: meno_merge(x))"
      ]
    },
    {
      "cell_type": "markdown",
      "metadata": {},
      "source": [
        "This is how the distribution of the groups looks like after the merge"
      ]
    },
    {
      "cell_type": "code",
      "execution_count": null,
      "metadata": {
        "colab": {
          "base_uri": "https://localhost:8080/"
        },
        "id": "1saAu7vW0UoG",
        "outputId": "6ce717af-01e9-49bf-a882-08f2bab33b19"
      },
      "outputs": [
        {
          "name": "stdout",
          "output_type": "stream",
          "text": [
            "class  no-recurrence-events  recurrence-events\n",
            "age                                           \n",
            "20-39                    22                 15\n",
            "40-49                    62                 27\n",
            "50-59                    69                 23\n",
            "60-79                    43                 17 \n",
            "\n",
            "class      no-recurrence-events  recurrence-events\n",
            "menopause                                         \n",
            "ge40                         95                 34\n",
            "premeno                     101                 48 \n",
            "\n",
            "class       no-recurrence-events  recurrence-events\n",
            "tumor-size                                         \n",
            "0-9                           11                  1\n",
            "10-14                         27                  1\n",
            "15-19                         23                  6\n",
            "20-24                         34                 14\n",
            "25-29                         33                 18\n",
            "30-34                         33                 25\n",
            "35-39                         12                  7\n",
            "40-44                         16                  6\n",
            "45-54                          7                  4 \n",
            "\n",
            "class      no-recurrence-events  recurrence-events\n",
            "inv-nodes                                         \n",
            "0-2                         166                 44\n",
            "3-5                          17                 17\n",
            "6-8                           7                 10\n",
            "=> 9                          6                 11 \n",
            "\n",
            "class      no-recurrence-events  recurrence-events\n",
            "node-caps                                         \n",
            "no                          171                 51\n",
            "yes                          25                 31 \n",
            "\n"
          ]
        }
      ],
      "source": [
        "print(pd.crosstab(df['age'], df['class']), \"\\n\")\n",
        "print(pd.crosstab(df['menopause'], df['class']), \"\\n\")\n",
        "print(pd.crosstab(df['tumor-size'], df['class']), \"\\n\")\n",
        "print(pd.crosstab(df['inv-nodes'], df['class']), \"\\n\")\n",
        "print(pd.crosstab(df['node-caps'], df['class']), \"\\n\")"
      ]
    },
    {
      "cell_type": "markdown",
      "metadata": {
        "id": "2aZpJgGXGyU8"
      },
      "source": [
        "### Define Split data function\n",
        "\n",
        "Here I write by hand a very simple data split function. It takes a dataframe, and the relative size of the test data frame desired, and returns the train and the test dataframes."
      ]
    },
    {
      "cell_type": "code",
      "execution_count": null,
      "metadata": {
        "id": "WclRotWIFY5P"
      },
      "outputs": [],
      "source": [
        "def split_df(df, test_size):\n",
        "  '''\n",
        "  This function takes a data frame, and a number from 0 to 1 that represents the\n",
        "  size of the test data relative to the original dataframe.\n",
        "  '''\n",
        "  test = df.sample(frac = test_size, replace = False)\n",
        "  train = df.copy()\n",
        "  for index in test.id:\n",
        "    if index in train.id:\n",
        "      train = train.drop([index])\n",
        "  return test, train"
      ]
    },
    {
      "cell_type": "markdown",
      "metadata": {},
      "source": []
    },
    {
      "cell_type": "markdown",
      "metadata": {
        "id": "5Jf-kggfNu41"
      },
      "source": [
        "# Define Naive Bayes functions\n",
        "\n",
        "For each combination of attributes $x_{i}$, we will apply Bayes rule to estimate the probability of recurrence events.\n",
        "\n",
        "$$P(RE|\\{x_{1}, .., x_{n}\\}) = \\frac{P(\\{x_{1}, .., x_{n}\\}|RE)P(RE)}{P(\\{x_{1}, .., x_{n}\\})}$$\n",
        "\n",
        "Because of the assumption of independence, we can translate this into:\n",
        "\n",
        "$$P(RE|\\{x_{1}, .., x_{n}\\}) \\propto Π_{i \\in cols}^{}(\\{x_{1}, .., x_{n}\\}|RE)P(RE)$$\n",
        "\n",
        "which means that the posterior probability of having reccuring events, conditional on the values of each variable $x_{i}$\n",
        " should be proportional to the likelihood times the posterior.\n",
        "\n",
        "This value is then normilized by dividing this by\n",
        "\n",
        "$$Π_{i \\in cols}^{}P(\\{x_{1}, .., x_{n}|RE) +  P(\\{x_{1}, .., x_{n}|no-RE)$$\n"
      ]
    },
    {
      "cell_type": "code",
      "execution_count": null,
      "metadata": {
        "id": "dyIkaEQiNupe"
      },
      "outputs": [],
      "source": [
        "def get_cond_prob(df, condition):\n",
        "  '''\n",
        "  This will calculate the conditional probabilities for each column.\n",
        "  Conditional on class \n",
        "  '''\n",
        "  conditional_df = df[df['class'] == condition]\n",
        "  base_rate = len(conditional_df)\n",
        "  probs_dict = {}\n",
        "  for col in df.columns[1:-1]:\n",
        "    summary = df[['id', col, 'class']].groupby([col, 'class']).count()\n",
        "    summary[summary.index.get_level_values(\"class\") == condition] #because summary returns a multiindex data frame\n",
        "    # Convert this into conditional probabilities\n",
        "    summary = summary.id/base_rate\n",
        "    #Add this to the dicitonary\n",
        "    probs_dict[col] = summary.to_dict()\n",
        "  return probs_dict, base_rate/len(conditional_df)\n",
        "\n",
        "def NaiveBayes(train, test):\n",
        "  '''\n",
        "  This function calculates de probability that certain row survived,\n",
        "  given all the information in the data.\n",
        "  '''\n",
        "  cond_prob_rec, pc = get_cond_prob(train, 'recurrence-events')\n",
        "  cond_prob_norec, pnorec = get_cond_prob(train, 'no-recurrence-events')\n",
        " \n",
        "  preds = []\n",
        "  for i in range(len(test)):\n",
        "    row = test.iloc[i]\n",
        "    prob1 = 1\n",
        "    prob2 = 1\n",
        "    # For each column, get in the table the conditional and unconditional probabilities and multiply it \n",
        "    for col in ['age', 'menopause', 'tumor-size', 'inv-nodes', 'node-caps', 'deg-malig', 'breast', 'breast-quad', ' irradiat']:\n",
        "      ## Apply the probabilities I got previously to the test df\n",
        "      try:\n",
        "        prob1 = cond_prob_rec[col][(row[col], \"recurrence-events\")] * prob1\n",
        "        prob2 = cond_prob_norec[col][row[col], \"no-recurrence-events\"]*prob2\n",
        "      except KeyError:\n",
        "        print(f\"This key {row[col]} was a key not found\")\n",
        "       #print(f'attr_cond_probabilities[col]: {cond_prob_rec[col]}')\n",
        "        \n",
        "    preds.append(prob1*pc/(prob1 + prob2))\n",
        "  return preds"
      ]
    },
    {
      "cell_type": "markdown",
      "metadata": {
        "id": "WnGXe98Ud5Qr"
      },
      "source": [
        "# 1. Split the data"
      ]
    },
    {
      "cell_type": "code",
      "execution_count": null,
      "metadata": {
        "id": "_pn7zUFcOASV"
      },
      "outputs": [],
      "source": [
        "test, train = split_df(df, 0.2)"
      ]
    },
    {
      "cell_type": "markdown",
      "metadata": {
        "id": "0XHXBhYLeTy4"
      },
      "source": [
        "# 2. Apply classifier to test data"
      ]
    },
    {
      "cell_type": "code",
      "execution_count": null,
      "metadata": {
        "colab": {
          "base_uri": "https://localhost:8080/"
        },
        "id": "AMq8If53SKJd",
        "outputId": "88f4df66-5f0d-492c-df60-af5681acc815"
      },
      "outputs": [
        {
          "name": "stdout",
          "output_type": "stream",
          "text": [
            "This key ? was a key not found\n"
          ]
        }
      ],
      "source": [
        "predictions = NaiveBayes(train, test)"
      ]
    },
    {
      "cell_type": "markdown",
      "metadata": {
        "id": "XAuoEpQEeLex"
      },
      "source": [
        "## ROC curve\n",
        "\n",
        "First, I have to transform the variables so that sklearn classifier can fit the data"
      ]
    },
    {
      "cell_type": "code",
      "execution_count": 102,
      "metadata": {
        "colab": {
          "base_uri": "https://localhost:8080/",
          "height": 295
        },
        "id": "a8T9hVRb8_SC",
        "outputId": "f37e261d-ddf3-4711-c17d-db176e44dec6"
      },
      "outputs": [
        {
          "ename": "IndexError",
          "evalue": "index 5 is out of bounds for axis 1 with size 5",
          "output_type": "error",
          "traceback": [
            "\u001b[0;31m---------------------------------------------------------------------------\u001b[0m",
            "\u001b[0;31mIndexError\u001b[0m                                Traceback (most recent call last)",
            "Input \u001b[0;32mIn [102]\u001b[0m, in \u001b[0;36m<module>\u001b[0;34m\u001b[0m\n\u001b[1;32m     17\u001b[0m Y_pred \u001b[38;5;241m=\u001b[39m test[\u001b[38;5;124m'\u001b[39m\u001b[38;5;124mclass\u001b[39m\u001b[38;5;124m'\u001b[39m]\n\u001b[1;32m     18\u001b[0m \u001b[38;5;66;03m#Predict the values for the test data and get the auc, false positive rate, and true positive rate for the sklearn preductions\u001b[39;00m\n\u001b[0;32m---> 19\u001b[0m probs \u001b[38;5;241m=\u001b[39m \u001b[43mclf\u001b[49m\u001b[38;5;241;43m.\u001b[39;49m\u001b[43mpredict_proba\u001b[49m\u001b[43m(\u001b[49m\u001b[43mX_pred\u001b[49m\u001b[43m)\u001b[49m[:,\u001b[38;5;241m1\u001b[39m]\n\u001b[1;32m     20\u001b[0m fpr, tpr, threshs \u001b[38;5;241m=\u001b[39m roc_curve(Y_pred, probs)\n\u001b[1;32m     21\u001b[0m roc_auc \u001b[38;5;241m=\u001b[39m auc(fpr, tpr)\n",
            "File \u001b[0;32m/Library/Frameworks/Python.framework/Versions/3.10/lib/python3.10/site-packages/sklearn/naive_bayes.py:125\u001b[0m, in \u001b[0;36m_BaseNB.predict_proba\u001b[0;34m(self, X)\u001b[0m\n\u001b[1;32m    109\u001b[0m \u001b[38;5;28;01mdef\u001b[39;00m \u001b[38;5;21mpredict_proba\u001b[39m(\u001b[38;5;28mself\u001b[39m, X):\n\u001b[1;32m    110\u001b[0m     \u001b[38;5;124;03m\"\"\"\u001b[39;00m\n\u001b[1;32m    111\u001b[0m \u001b[38;5;124;03m    Return probability estimates for the test vector X.\u001b[39;00m\n\u001b[1;32m    112\u001b[0m \n\u001b[0;32m   (...)\u001b[0m\n\u001b[1;32m    123\u001b[0m \u001b[38;5;124;03m        order, as they appear in the attribute :term:`classes_`.\u001b[39;00m\n\u001b[1;32m    124\u001b[0m \u001b[38;5;124;03m    \"\"\"\u001b[39;00m\n\u001b[0;32m--> 125\u001b[0m     \u001b[38;5;28;01mreturn\u001b[39;00m np\u001b[38;5;241m.\u001b[39mexp(\u001b[38;5;28;43mself\u001b[39;49m\u001b[38;5;241;43m.\u001b[39;49m\u001b[43mpredict_log_proba\u001b[49m\u001b[43m(\u001b[49m\u001b[43mX\u001b[49m\u001b[43m)\u001b[49m)\n",
            "File \u001b[0;32m/Library/Frameworks/Python.framework/Versions/3.10/lib/python3.10/site-packages/sklearn/naive_bayes.py:104\u001b[0m, in \u001b[0;36m_BaseNB.predict_log_proba\u001b[0;34m(self, X)\u001b[0m\n\u001b[1;32m    102\u001b[0m check_is_fitted(\u001b[38;5;28mself\u001b[39m)\n\u001b[1;32m    103\u001b[0m X \u001b[38;5;241m=\u001b[39m \u001b[38;5;28mself\u001b[39m\u001b[38;5;241m.\u001b[39m_check_X(X)\n\u001b[0;32m--> 104\u001b[0m jll \u001b[38;5;241m=\u001b[39m \u001b[38;5;28;43mself\u001b[39;49m\u001b[38;5;241;43m.\u001b[39;49m\u001b[43m_joint_log_likelihood\u001b[49m\u001b[43m(\u001b[49m\u001b[43mX\u001b[49m\u001b[43m)\u001b[49m\n\u001b[1;32m    105\u001b[0m \u001b[38;5;66;03m# normalize by P(x) = P(f_1, ..., f_n)\u001b[39;00m\n\u001b[1;32m    106\u001b[0m log_prob_x \u001b[38;5;241m=\u001b[39m logsumexp(jll, axis\u001b[38;5;241m=\u001b[39m\u001b[38;5;241m1\u001b[39m)\n",
            "File \u001b[0;32m/Library/Frameworks/Python.framework/Versions/3.10/lib/python3.10/site-packages/sklearn/naive_bayes.py:1461\u001b[0m, in \u001b[0;36mCategoricalNB._joint_log_likelihood\u001b[0;34m(self, X)\u001b[0m\n\u001b[1;32m   1459\u001b[0m \u001b[38;5;28;01mfor\u001b[39;00m i \u001b[38;5;129;01min\u001b[39;00m \u001b[38;5;28mrange\u001b[39m(\u001b[38;5;28mself\u001b[39m\u001b[38;5;241m.\u001b[39mn_features_in_):\n\u001b[1;32m   1460\u001b[0m     indices \u001b[38;5;241m=\u001b[39m X[:, i]\n\u001b[0;32m-> 1461\u001b[0m     jll \u001b[38;5;241m+\u001b[39m\u001b[38;5;241m=\u001b[39m \u001b[38;5;28;43mself\u001b[39;49m\u001b[38;5;241;43m.\u001b[39;49m\u001b[43mfeature_log_prob_\u001b[49m\u001b[43m[\u001b[49m\u001b[43mi\u001b[49m\u001b[43m]\u001b[49m\u001b[43m[\u001b[49m\u001b[43m:\u001b[49m\u001b[43m,\u001b[49m\u001b[43m \u001b[49m\u001b[43mindices\u001b[49m\u001b[43m]\u001b[49m\u001b[38;5;241m.\u001b[39mT\n\u001b[1;32m   1462\u001b[0m total_ll \u001b[38;5;241m=\u001b[39m jll \u001b[38;5;241m+\u001b[39m \u001b[38;5;28mself\u001b[39m\u001b[38;5;241m.\u001b[39mclass_log_prior_\n\u001b[1;32m   1463\u001b[0m \u001b[38;5;28;01mreturn\u001b[39;00m total_ll\n",
            "\u001b[0;31mIndexError\u001b[0m: index 5 is out of bounds for axis 1 with size 5"
          ]
        }
      ],
      "source": [
        "# for sklearn to work, I have to first transform all the variables into number\n",
        "le = preprocessing.LabelEncoder()\n",
        "\n",
        "train = train.apply(lambda x: le.fit_transform(x))\n",
        "train = train.drop([\"id\"], axis = 1)\n",
        "\n",
        "test = test.apply(lambda x: le.fit_transform(x))\n",
        "test = test.drop([\"id\"], axis = 1)\n",
        "\n",
        "# Create the data that I will feed sklearn\n",
        "Y = train['class']\n",
        "X = train.drop([\"class\"], axis = 1)\n",
        "clf = CategoricalNB()\n",
        "clf.fit(X,Y)\n",
        "\n",
        "X_pred = test.drop([\"class\"], axis = 1)\n",
        "Y_pred = test['class']\n",
        "#Predict the values for the test data and get the auc, false positive rate, and true positive rate for the sklearn preductions\n",
        "probs = clf.predict_proba(X_pred)[:,1]\n",
        "fpr, tpr, threshs = roc_curve(Y_pred, probs)\n",
        "roc_auc = auc(fpr, tpr)\n",
        "\n",
        "# Get the same values as above, but for the predictions of my algorithm\n",
        "fpr2, tpr2, threshs2 = roc_curve(Y_pred, predictions)\n",
        "roc_auc2 = auc(fpr2, tpr2)\n",
        "\n",
        "#Plot the ROC curve \n",
        "plt.plot(\n",
        "    fpr,\n",
        "    tpr,\n",
        "    'o-',\n",
        "    lw=2,\n",
        "    label=\"(Sklearn) ROC curve sklearn (area = %0.2f)\" % roc_auc,   \n",
        ")\n",
        "plt.plot(\n",
        "    fpr2,\n",
        "    tpr2,\n",
        "    'o-',\n",
        "    lw=2,\n",
        "    label=\"(Rafael's) ROC curve (area = %0.2f)\" % roc_auc2,   \n",
        ")\n",
        "plt.plot([0, 1], [0, 1], color=\"navy\", lw=2, linestyle=\"--\")\n",
        "plt.xlim([0.0, 1.0])\n",
        "plt.ylim([0.0, 1.05])\n",
        "plt.xlabel(\"False Positive Rate\")\n",
        "plt.ylabel(\"True Positive Rate\")\n",
        "plt.title(\"Receiver operating characteristic example\")\n",
        "plt.legend(loc=\"lower right\")\n",
        "plt.show()"
      ]
    },
    {
      "cell_type": "markdown",
      "metadata": {},
      "source": [
        "Conclusion:\n",
        "\n",
        "My classifier is very close to the sklearn one. Sometimes it is a bit better, and cometimes a big worse, but the AOC of both classifiers is usually very close"
      ]
    }
  ],
  "metadata": {
    "colab": {
      "name": "Naive Bayes Classifier.ipynb",
      "provenance": []
    },
    "kernelspec": {
      "display_name": "Python 3",
      "name": "python3"
    },
    "language_info": {
      "codemirror_mode": {
        "name": "ipython",
        "version": 3
      },
      "file_extension": ".py",
      "mimetype": "text/x-python",
      "name": "python",
      "nbconvert_exporter": "python",
      "pygments_lexer": "ipython3",
      "version": "3.10.0"
    }
  },
  "nbformat": 4,
  "nbformat_minor": 0
}
