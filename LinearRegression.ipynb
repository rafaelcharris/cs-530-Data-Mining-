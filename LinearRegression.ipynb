{
 "cells": [
  {
   "cell_type": "markdown",
   "metadata": {},
   "source": [
    "# OLS regression"
   ]
  },
  {
   "cell_type": "code",
   "execution_count": 1,
   "metadata": {},
   "outputs": [],
   "source": [
    "import pandas as pd\n",
    "import numpy as np\n",
    "import matplotlib.pyplot as plt\n",
    "from scipy.optimize import minimize\n",
    "from sklearn import preprocessing\n",
    "from sklearn.model_selection import train_test_split\n",
    "import statistics as stats\n",
    "\n",
    "df = pd.read_csv('student-por.csv', sep = \";\")\n",
    "#Drop extra columns\n",
    "df = df.drop([\"reason\", \"Mjob\", \"Fjob\", \"guardian\"], axis = 1)"
   ]
  },
  {
   "cell_type": "markdown",
   "metadata": {},
   "source": [
    "# Minimize Squared Error\n",
    "## 1. Predict G3 (excluding G1, and G2)"
   ]
  },
  {
   "cell_type": "markdown",
   "metadata": {},
   "source": [
    "# Split the data into training and testing data"
   ]
  },
  {
   "cell_type": "markdown",
   "metadata": {},
   "source": [
    "$$\\argmin_{\\beta}(y - (\\beta_{0} + X \\beta))$$"
   ]
  },
  {
   "cell_type": "code",
   "execution_count": 2,
   "metadata": {},
   "outputs": [],
   "source": [
    "le = preprocessing.LabelEncoder()\n",
    "\n",
    "#Check the order in which the variables are being used\n",
    "df = df.apply(lambda x: le.fit_transform(x) if x.dtypes == 'object' else x)\n",
    "\n",
    "train, test = train_test_split(df, test_size=0.2, random_state=42)"
   ]
  },
  {
   "cell_type": "code",
   "execution_count": 3,
   "metadata": {},
   "outputs": [
    {
     "data": {
      "text/plain": [
       "array([ 9.07106754e+00, -1.56732599e+00, -4.02486407e-01,  1.50361823e-01,\n",
       "        2.20555731e-01,  2.50891045e-01, -2.39608128e-01,  8.37087595e-02,\n",
       "        2.28247349e-01, -4.74827173e-03,  3.79265261e-01, -1.43499810e+00,\n",
       "       -1.57315388e+00,  8.70966787e-02, -5.35682846e-01,  2.29523963e-01,\n",
       "       -1.36418242e-01,  1.67312560e+00,  3.79898464e-01, -3.62603141e-01,\n",
       "        1.14281651e-01, -6.85033927e-02, -1.33179162e-01, -3.20039716e-01,\n",
       "       -4.39304993e-02, -2.09705581e-01, -4.79611302e-02])"
      ]
     },
     "execution_count": 3,
     "metadata": {},
     "output_type": "execute_result"
    }
   ],
   "source": [
    "def get_sq_errors(betas, df):\n",
    "    beta0, beta1, beta2, beta3, beta4, beta5, beta6, beta7, beta8,  beta9, beta10, beta11, beta12, beta13, beta14, beta15, beta16, beta17, beta18, beta19, beta20, beta21, beta22, beta23, beta24, beta25, beta26= betas\n",
    "    return sum((df[\"G3\"] - (beta0 + df[\"school\"]*beta1  + df[\"sex\"]*beta2 + df[\"age\"]*beta3 + df[\"address\"]*beta4 + df[\"famsize\"]*beta5 + df[\"Pstatus\"]*beta6 + df[\"Medu\"]*beta7 + df[\"Fedu\"]*beta8 + df[\"traveltime\"]*beta9 + df[\"studytime\"]*beta10 +df[\"failures\"]*beta11 + df[\"schoolsup\"]*beta12 + df[\"famsup\"]*beta13 + df[\"paid\"]*beta14 + df[\"activities\"]*beta15 + df[\"nursery\"]*beta16 + df[\"higher\"]*beta17 + df['internet']*beta18 +df[\"romantic\"]*beta19 + df['famrel']*beta20 + df['freetime']*beta21 + df[\"goout\"]*beta22 + df[\"Dalc\"]*beta23 + df[\"Walc\"]*beta24 + df[\"health\"]*beta25 +df[\"absences\"]*beta26))**2)\n",
    "         \n",
    "initial_guess = np.ones(27)\n",
    "\n",
    "results = minimize(get_sq_errors, args = train, method = \"BFGS\", x0 = initial_guess)\n",
    "\n",
    "fitted_params = results.x\n",
    "fitted_params"
   ]
  },
  {
   "cell_type": "markdown",
   "metadata": {},
   "source": [
    "## 3)  Do it again including G1 and G2, and compare the variance."
   ]
  },
  {
   "cell_type": "code",
   "execution_count": 4,
   "metadata": {},
   "outputs": [
    {
     "data": {
      "text/plain": [
       "array([ 0.15169903, -0.3570527 , -0.06278841,  0.01775454,  0.11415921,\n",
       "        0.12643004, -0.04571816, -0.09256029,  0.02234237,  0.12286745,\n",
       "        0.06035641, -0.1466147 , -0.15946279,  0.19014396, -0.23441569,\n",
       "       -0.01483322, -0.0565218 ,  0.01125813,  0.11800503,  0.0631665 ,\n",
       "       -0.07022044, -0.07969269,  0.02113446, -0.09043611,  0.01347602,\n",
       "       -0.03536802,  0.01285282,  0.16575462,  0.86875327])"
      ]
     },
     "execution_count": 4,
     "metadata": {},
     "output_type": "execute_result"
    }
   ],
   "source": [
    "def get_sq_errors2(betas, df):\n",
    "    beta0, beta1, beta2, beta3, beta4, beta5, beta6, beta7, beta8,  beta9, beta10, beta11, beta12, beta13, beta14, beta15, beta16, beta17, beta18, beta19, beta20, beta21, beta22, beta23, beta24, beta25, beta26, beta27, beta28 = betas\n",
    "    return sum((df[\"G3\"] - (beta0 + df[\"school\"]*beta1  + df[\"sex\"]*beta2 + df[\"age\"]*beta3 + df[\"address\"]*beta4 + df[\"famsize\"]*beta5+ df[\"Pstatus\"]*beta6 + df[\"Medu\"]*beta7 + df[\"Fedu\"]*beta8 + df[\"traveltime\"]*beta9 + df[\"studytime\"]*beta10 +df[\"failures\"]*beta11 + df[\"schoolsup\"]*beta12 + df[\"famsup\"]*beta13 + df[\"paid\"]*beta14 + df[\"activities\"]*beta15 + df[\"nursery\"]*beta16 + df[\"higher\"]*beta17 + df['internet']*beta18 +df[\"romantic\"]*beta19 + df['famrel']*beta20 + df['freetime']*beta21 + df[\"goout\"]*beta22 + df[\"Dalc\"]*beta23 + df[\"Walc\"]*beta24 + df[\"health\"]*beta25 + df[\"absences\"]*beta26 +df[\"G1\"]*beta27 + df[\"G2\"]*beta28))**2)\n",
    "         \n",
    "initial_guess = np.ones(29)\n",
    "\n",
    "res = minimize(get_sq_errors2, args = train, method = \"BFGS\", x0 = initial_guess)\n",
    "\n",
    "fitted_params_g1g2 = res.x\n",
    "fitted_params_g1g2"
   ]
  },
  {
   "cell_type": "markdown",
   "metadata": {},
   "source": [
    "## Variance Squared Errors"
   ]
  },
  {
   "cell_type": "code",
   "execution_count": 5,
   "metadata": {},
   "outputs": [
    {
     "data": {
      "text/plain": [
       "281.52665353594836"
      ]
     },
     "execution_count": 5,
     "metadata": {},
     "output_type": "execute_result"
    }
   ],
   "source": [
    "beta0, beta1, beta2, beta3, beta4, beta5, beta6, beta7, beta8,  beta9, beta10, beta11, beta12, beta13, beta14, beta15, beta16, beta17, beta18, beta19, beta20, beta21, beta22, beta23, beta24, beta25, beta26= fitted_params\n",
    "\n",
    "test['y_hat'] = beta0 + test[\"school\"]*beta1  + test[\"sex\"]*beta2 + test[\"age\"]*beta3 + test[\"address\"]*beta4 + test[\"famsize\"]*beta5 + test[\"Pstatus\"]*beta6 + test[\"Medu\"]*beta7 + test[\"Fedu\"]*beta8 + test[\"traveltime\"]*beta9 + test[\"studytime\"]*beta10 +test[\"failures\"]*beta11 + test[\"schoolsup\"]*beta12 + test[\"famsup\"]*beta13 + test[\"paid\"]*beta14 + test[\"activities\"]*beta15 + test[\"nursery\"]*beta16 + test[\"higher\"]*beta17 + test['internet']*beta18 +test[\"romantic\"]*beta19 + test['famrel']*beta20 + test['freetime']*beta21 + test[\"goout\"]*beta22 + test[\"Dalc\"]*beta23 + test[\"Walc\"]*beta24 + test[\"health\"]*beta25 +test[\"absences\"]*beta26\n",
    "\n",
    "test[\"diff\"] = test['G3'] - test['y_hat']\n",
    "\n",
    "stats.variance((test[\"diff\"])**2)"
   ]
  },
  {
   "cell_type": "code",
   "execution_count": 6,
   "metadata": {},
   "outputs": [
    {
     "data": {
      "text/plain": [
       "67.06103070627269"
      ]
     },
     "execution_count": 6,
     "metadata": {},
     "output_type": "execute_result"
    }
   ],
   "source": [
    "beta0, beta1, beta2, beta3, beta4, beta5, beta6, beta7, beta8,  beta9, beta10, beta11, beta12, beta13, beta14, beta15, beta16, beta17, beta18, beta19, beta20, beta21, beta22, beta23, beta24, beta25, beta26, beta27, beta28 = fitted_params_g1g2\n",
    "test['y_hat_g1g2'] = beta0 + test[\"school\"]*beta1 + test[\"sex\"]*beta2 + test[\"age\"]*beta3 + test[\"address\"]*beta4 + test[\"famsize\"]*beta5 + test[\"Pstatus\"]*beta6 + test[\"Medu\"]*beta7 + test[\"Fedu\"]*beta8 + test[\"traveltime\"]*beta9 + test[\"studytime\"]*beta10 +test[\"failures\"]*beta11 + test[\"schoolsup\"]*beta12 + test[\"famsup\"]*beta13 + test[\"paid\"]*beta14 + test[\"activities\"]*beta15 + test[\"nursery\"]*beta16 + test[\"higher\"]*beta17 + test['internet']*beta18 +test[\"romantic\"]*beta19 + test['famrel']*beta20 + test['freetime']*beta21 + test[\"goout\"]*beta22 + test[\"Dalc\"]*beta23 + test[\"Walc\"]*beta24 + test[\"health\"]*beta25 +test[\"absences\"]*beta26 + test[\"G1\"]*beta27 + test[\"G2\"]*beta28\n",
    "\n",
    "test[\"diff_g1g2\"] = test['G3'] - test['y_hat_g1g2']\n",
    "\n",
    "stats.variance(test[\"diff_g1g2\"]**2)"
   ]
  },
  {
   "cell_type": "markdown",
   "metadata": {},
   "source": [
    "The variance of the squared differences seems to be much higher when I don't include G1 and G3."
   ]
  },
  {
   "cell_type": "markdown",
   "metadata": {},
   "source": [
    "# 5. Minimize absolute error"
   ]
  },
  {
   "cell_type": "code",
   "execution_count": 7,
   "metadata": {},
   "outputs": [
    {
     "data": {
      "text/plain": [
       "array([ 5.02614931e+00, -9.11841869e-01, -3.05509462e-01,  3.83092970e-01,\n",
       "       -3.44537015e-03, -1.73730770e-01, -1.42234061e-01,  2.58296080e-01,\n",
       "        1.05034315e-01, -2.15598901e-01,  4.39984826e-01, -1.62427076e+00,\n",
       "       -1.32315113e+00,  6.29522642e-03, -8.26001765e-01,  3.83617601e-01,\n",
       "        1.55485977e-01,  1.54981380e+00,  3.43872298e-01, -4.40255851e-01,\n",
       "        1.62963053e-01, -1.34537187e-01, -1.62300945e-01, -3.57108229e-01,\n",
       "        1.23351661e-01, -1.89313242e-01, -7.79033841e-02])"
      ]
     },
     "execution_count": 7,
     "metadata": {},
     "output_type": "execute_result"
    }
   ],
   "source": [
    "def get_sq_errors_abs(betas, df):\n",
    "    beta0, beta1, beta2, beta3, beta4, beta5, beta6, beta7, beta8,  beta9, beta10, beta11, beta12, beta13, beta14, beta15, beta16, beta17, beta18, beta19, beta20, beta21, beta22, beta23, beta24, beta25, beta26= betas\n",
    "    return sum(abs(df[\"G3\"] - (beta0 + df[\"school\"]*beta1  + df[\"sex\"]*beta2 + df[\"age\"]*beta3 + df[\"address\"]*beta4 + df[\"famsize\"]*beta5 + df[\"Pstatus\"]*beta6 + df[\"Medu\"]*beta7 + df[\"Fedu\"]*beta8 + df[\"traveltime\"]*beta9 + df[\"studytime\"]*beta10 +df[\"failures\"]*beta11 + df[\"schoolsup\"]*beta12 + df[\"famsup\"]*beta13 + df[\"paid\"]*beta14 + df[\"activities\"]*beta15 + df[\"nursery\"]*beta16 + df[\"higher\"]*beta17 + df['internet']*beta18 +df[\"romantic\"]*beta19 + df['famrel']*beta20 + df['freetime']*beta21 + df[\"goout\"]*beta22 + df[\"Dalc\"]*beta23 + df[\"Walc\"]*beta24 + df[\"health\"]*beta25 +df[\"absences\"]*beta26)))\n",
    "         \n",
    "initial_guess = np.ones(27)\n",
    "\n",
    "res = minimize(get_sq_errors_abs, args = train, method = \"BFGS\", x0 = initial_guess)\n",
    "\n",
    "fitted_params_abs = res.x\n",
    "fitted_params_abs"
   ]
  },
  {
   "cell_type": "code",
   "execution_count": 8,
   "metadata": {},
   "outputs": [
    {
     "data": {
      "text/plain": [
       "array([-0.90875257, -0.08728718,  0.13313128,  0.10137817,  0.02632461,\n",
       "        0.01022248,  0.01092471, -0.01879645,  0.07591775,  0.09865866,\n",
       "        0.06946222, -0.13906392, -0.1636067 , -0.04562869, -0.15676126,\n",
       "       -0.06422707, -0.06613501,  0.22523113,  0.07824654,  0.06436421,\n",
       "       -0.05777647, -0.01648876, -0.01982468, -0.11987556, -0.00618645,\n",
       "       -0.02789559,  0.00782146,  0.14184482,  0.82239787])"
      ]
     },
     "execution_count": 8,
     "metadata": {},
     "output_type": "execute_result"
    }
   ],
   "source": [
    "def get_sq_errors_abs2(betas, df):\n",
    "    beta0, beta1, beta2, beta3, beta4, beta5, beta6, beta7, beta8,  beta9, beta10, beta11, beta12, beta13, beta14, beta15, beta16, beta17, beta18, beta19, beta20, beta21, beta22, beta23, beta24, beta25, beta26, beta27, beta28 = betas\n",
    "    return sum(abs(df[\"G3\"] - (beta0 + df[\"school\"]*beta1  + df[\"sex\"]*beta2 + df[\"age\"]*beta3 + df[\"address\"]*beta4 + df[\"famsize\"]*beta5+ df[\"Pstatus\"]*beta6 + df[\"Medu\"]*beta7 + df[\"Fedu\"]*beta8 + df[\"traveltime\"]*beta9 + df[\"studytime\"]*beta10 +df[\"failures\"]*beta11 + df[\"schoolsup\"]*beta12 + df[\"famsup\"]*beta13 + df[\"paid\"]*beta14 + df[\"activities\"]*beta15 + df[\"nursery\"]*beta16 + df[\"higher\"]*beta17 + df['internet']*beta18 +df[\"romantic\"]*beta19 + df['famrel']*beta20 + df['freetime']*beta21 + df[\"goout\"]*beta22 + df[\"Dalc\"]*beta23 + df[\"Walc\"]*beta24 + df[\"health\"]*beta25 + df[\"absences\"]*beta26 +df[\"G1\"]*beta27 + df[\"G2\"]*beta28)))\n",
    "    \n",
    "initial_guess = np.ones(29)\n",
    "\n",
    "res = minimize(get_sq_errors_abs2, args = train, method = \"BFGS\", x0 = initial_guess)\n",
    "\n",
    "fitted_params_abs2 = res.x\n",
    "fitted_params_abs2"
   ]
  },
  {
   "cell_type": "markdown",
   "metadata": {},
   "source": [
    "## Variance absolute error"
   ]
  },
  {
   "cell_type": "code",
   "execution_count": 9,
   "metadata": {},
   "outputs": [
    {
     "data": {
      "text/plain": [
       "341.64141963476254"
      ]
     },
     "execution_count": 9,
     "metadata": {},
     "output_type": "execute_result"
    }
   ],
   "source": [
    "beta0, beta1, beta2, beta3, beta4, beta5, beta6, beta7, beta8,  beta9, beta10, beta11, beta12, beta13, beta14, beta15, beta16, beta17, beta18, beta19, beta20, beta21, beta22, beta23, beta24, beta25, beta26= fitted_params_abs\n",
    "\n",
    "test['y_hat_abs'] = beta0 + test[\"school\"]*beta1  + test[\"sex\"]*beta2 + test[\"age\"]*beta3 + test[\"address\"]*beta4 + test[\"famsize\"]*beta5 + test[\"Pstatus\"]*beta6 + test[\"Medu\"]*beta7 + test[\"Fedu\"]*beta8 + test[\"traveltime\"]*beta9 + test[\"studytime\"]*beta10 +test[\"failures\"]*beta11 + test[\"schoolsup\"]*beta12 + test[\"famsup\"]*beta13 + test[\"paid\"]*beta14 + test[\"activities\"]*beta15 + test[\"nursery\"]*beta16 + test[\"higher\"]*beta17 + test['internet']*beta18 +test[\"romantic\"]*beta19 + test['famrel']*beta20 + test['freetime']*beta21 + test[\"goout\"]*beta22 + test[\"Dalc\"]*beta23 + test[\"Walc\"]*beta24 + test[\"health\"]*beta25 +test[\"absences\"]*beta26\n",
    "\n",
    "test[\"diff\"] = test['G3'] - test['y_hat_abs']\n",
    "\n",
    "stats.variance((test[\"diff\"])**2)"
   ]
  },
  {
   "cell_type": "code",
   "execution_count": 10,
   "metadata": {},
   "outputs": [
    {
     "data": {
      "text/plain": [
       "60.81083016118869"
      ]
     },
     "execution_count": 10,
     "metadata": {},
     "output_type": "execute_result"
    }
   ],
   "source": [
    "beta0, beta1, beta2, beta3, beta4, beta5, beta6, beta7, beta8,  beta9, beta10, beta11, beta12, beta13, beta14, beta15, beta16, beta17, beta18, beta19, beta20, beta21, beta22, beta23, beta24, beta25, beta26, beta27, beta28 = fitted_params_abs2\n",
    "test['y_hat_absg1g2'] = beta0 + test[\"school\"]*beta1 + test[\"sex\"]*beta2 + test[\"age\"]*beta3 + test[\"address\"]*beta4 + test[\"famsize\"]*beta5 + test[\"Pstatus\"]*beta6 + test[\"Medu\"]*beta7 + test[\"Fedu\"]*beta8 + test[\"traveltime\"]*beta9 + test[\"studytime\"]*beta10 +test[\"failures\"]*beta11 + test[\"schoolsup\"]*beta12 + test[\"famsup\"]*beta13 + test[\"paid\"]*beta14 + test[\"activities\"]*beta15 + test[\"nursery\"]*beta16 + test[\"higher\"]*beta17 + test['internet']*beta18 +test[\"romantic\"]*beta19 + test['famrel']*beta20 + test['freetime']*beta21 + test[\"goout\"]*beta22 + test[\"Dalc\"]*beta23 + test[\"Walc\"]*beta24 + test[\"health\"]*beta25 +test[\"absences\"]*beta26 + test[\"G1\"]*beta27 + test[\"G2\"]*beta28\n",
    "\n",
    "test[\"diff_absg1g2\"] = test['G3'] - test['y_hat_absg1g2']\n",
    "\n",
    "stats.variance(test[\"diff_absg1g2\"]**2)"
   ]
  },
  {
   "cell_type": "markdown",
   "metadata": {},
   "source": [
    "The variance of the squared differences follow the same pattern as above, there is more variance when I omit G2, and G1 from the estimation."
   ]
  },
  {
   "cell_type": "markdown",
   "metadata": {},
   "source": [
    "# 6)  Estimate the out-of-sample squared-error variance of each estimator by randomly sampling the train-test split.\n",
    "\n",
    "I will estimate the squared-error variance in the test set several times for both the squared errors method and the absolute value method. \n",
    "I will then show the mean of both methods, and plot the distributions of the variances"
   ]
  },
  {
   "cell_type": "code",
   "execution_count": 11,
   "metadata": {},
   "outputs": [
    {
     "data": {
      "text/plain": [
       "Text(0.5, 1.0, 'Distribution of the variances using the min squared errors method\\nMean: 328')"
      ]
     },
     "execution_count": 11,
     "metadata": {},
     "output_type": "execute_result"
    },
    {
     "data": {
      "image/png": "[encoded data removed]",
      "text/plain": [
       "<Figure size 432x288 with 1 Axes>"
      ]
     },
     "metadata": {
      "needs_background": "light"
     },
     "output_type": "display_data"
    }
   ],
   "source": [
    "trials = 20\n",
    "variances_sq = []\n",
    "variances_abs = []\n",
    "\n",
    "for _ in range(trials):\n",
    "    diff = 0\n",
    "    diff_abs = 0\n",
    "    y_hat = 0\n",
    "    y_hat_abs = 0 \n",
    "    \n",
    "    #Create a random split\n",
    "    \n",
    "    train, test = train_test_split(df, test_size=0.2)    \n",
    "    initial_guess = np.ones(27)\n",
    "\n",
    "    # Use squared errors\n",
    "    initial_guess = np.ones(27)\n",
    "    results_sq_errors = minimize(get_sq_errors, args = train, method = \"BFGS\", x0 = initial_guess)\n",
    "    fitted_params = results_sq_errors.x\n",
    "    #get the values of the betas\n",
    "    beta0, beta1, beta2, beta3, beta4, beta5, beta6, beta7, beta8,  beta9, beta10, beta11, beta12, beta13, beta14, beta15, beta16, beta17, beta18, beta19, beta20, beta21, beta22, beta23, beta24, beta25, beta26= fitted_params\n",
    "    # get the value of the prediction for G3\n",
    "    y_hat = beta0 + test[\"school\"]*beta1  + test[\"sex\"]*beta2 + test[\"age\"]*beta3 + test[\"address\"]*beta4 + test[\"famsize\"]*beta5 + test[\"Pstatus\"]*beta6 + test[\"Medu\"]*beta7 + test[\"Fedu\"]*beta8 + test[\"traveltime\"]*beta9 + test[\"studytime\"]*beta10 +test[\"failures\"]*beta11 + test[\"schoolsup\"]*beta12 + test[\"famsup\"]*beta13 + test[\"paid\"]*beta14 + test[\"activities\"]*beta15 + test[\"nursery\"]*beta16 + test[\"higher\"]*beta17 + test['internet']*beta18 +test[\"romantic\"]*beta19 + test['famrel']*beta20 + test['freetime']*beta21 + test[\"goout\"]*beta22 + test[\"Dalc\"]*beta23 + test[\"Walc\"]*beta24 + test[\"health\"]*beta25 +test[\"absences\"]*beta26\n",
    "    # Get the difference and it's squared and get the variance of this for this split\n",
    "    diff = test['G3'] - y_hat\n",
    "    variances_sq.append(stats.variance(diff**2))\n",
    "\n",
    "    # Use absolute value of the error\n",
    "    results_abs = minimize(get_sq_errors_abs, args = train, method = \"BFGS\", x0 = initial_guess)\n",
    "    fitted_params = results_abs.x\n",
    "    #get the values of the betas\n",
    "    beta0, beta1, beta2, beta3, beta4, beta5, beta6, beta7, beta8,  beta9, beta10, beta11, beta12, beta13, beta14, beta15, beta16, beta17, beta18, beta19, beta20, beta21, beta22, beta23, beta24, beta25, beta26= fitted_params\n",
    "    # get the value of the prediction for G3\n",
    "    y_hat_abs= beta0 + test[\"school\"]*beta1  + test[\"sex\"]*beta2 + test[\"age\"]*beta3 + test[\"address\"]*beta4 + test[\"famsize\"]*beta5 + test[\"Pstatus\"]*beta6 + test[\"Medu\"]*beta7 + test[\"Fedu\"]*beta8 + test[\"traveltime\"]*beta9 + test[\"studytime\"]*beta10 +test[\"failures\"]*beta11 + test[\"schoolsup\"]*beta12 + test[\"famsup\"]*beta13 + test[\"paid\"]*beta14 + test[\"activities\"]*beta15 + test[\"nursery\"]*beta16 + test[\"higher\"]*beta17 + test['internet']*beta18 +test[\"romantic\"]*beta19 + test['famrel']*beta20 + test['freetime']*beta21 + test[\"goout\"]*beta22 + test[\"Dalc\"]*beta23 + test[\"Walc\"]*beta24 + test[\"health\"]*beta25 +test[\"absences\"]*beta26\n",
    "    # Get the difference and it's squared and get the variance of this for this split\n",
    "    diff_abs = test['G3'] - y_hat_abs\n",
    "\n",
    "    variances_abs.append(stats.variance(diff_abs**2))\n",
    "\n",
    "\n",
    "plt.hist(variances_sq)\n",
    "plt.title(f\"Distribution of the variances using the min squared errors method\\nMean: {round(np.mean(variances_sq))}\")"
   ]
  },
  {
   "cell_type": "code",
   "execution_count": 12,
   "metadata": {},
   "outputs": [
    {
     "data": {
      "text/plain": [
       "Text(0.5, 1.0, 'Distribution of the variances using the min absolute difference method\\nMean: 357')"
      ]
     },
     "execution_count": 12,
     "metadata": {},
     "output_type": "execute_result"
    },
    {
     "data": {
      "image/png": "[encoded data removed]",
      "text/plain": [
       "<Figure size 432x288 with 1 Axes>"
      ]
     },
     "metadata": {
      "needs_background": "light"
     },
     "output_type": "display_data"
    }
   ],
   "source": [
    "plt.hist(variances_abs)\n",
    "plt.title(f\"Distribution of the variances using the min absolute difference method\\nMean: {round(np.mean(variances_abs))}\")"
   ]
  },
  {
   "cell_type": "markdown",
   "metadata": {},
   "source": [
    "This shows that the variance is slightly lower using the squared error method, which maybe part of the reason why we use it instead of absolute errors."
   ]
  }
 ],
 "metadata": {
  "interpreter": {
   "hash": "7e1998ff7f8aa20ada591c520b972326324e5ea05489af9e422744c7c09f6dad"
  },
  "kernelspec": {
   "display_name": "Python 3.10.0 64-bit",
   "language": "python",
   "name": "python3"
  },
  "language_info": {
   "codemirror_mode": {
    "name": "ipython",
    "version": 3
   },
   "file_extension": ".py",
   "mimetype": "text/x-python",
   "name": "python",
   "nbconvert_exporter": "python",
   "pygments_lexer": "ipython3",
   "version": "3.10.0"
  },
  "orig_nbformat": 4
 },
 "nbformat": 4,
 "nbformat_minor": 2
}
