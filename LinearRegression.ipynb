{
 "cells": [
  {
   "cell_type": "markdown",
   "metadata": {},
   "source": [
    "# OLS regression"
   ]
  },
  {
   "cell_type": "code",
   "execution_count": 267,
   "metadata": {},
   "outputs": [],
   "source": [
    "import pandas as pd\n",
    "import numpy as np\n",
    "import matplotlib.pyplot as plt\n",
    "from scipy.optimize import minimize\n",
    "from sklearn import preprocessing\n",
    "from sklearn.model_selection import train_test_split\n",
    "import statistics as stats\n",
    "\n",
    "df = pd.read_csv('student-por.csv', sep = \";\")\n",
    "#Drop extra columns\n",
    "df = df.drop([\"reason\", \"Mjob\", \"Fjob\", \"guardian\"], axis = 1)"
   ]
  },
  {
   "cell_type": "markdown",
   "metadata": {},
   "source": [
    "# Minimize Squared Error\n",
    "## 1. Predict G3 (excluding G1, and G2)"
   ]
  },
  {
   "cell_type": "markdown",
   "metadata": {},
   "source": [
    "# Split the data into training and testing data"
   ]
  },
  {
   "cell_type": "markdown",
   "metadata": {},
   "source": [
    "$$\\argmin_{\\beta}(y - (\\beta_{0} + X \\beta))$$"
   ]
  },
  {
   "cell_type": "code",
   "execution_count": 268,
   "metadata": {},
   "outputs": [],
   "source": [
    "le = preprocessing.LabelEncoder()\n",
    "\n",
    "#Check the order in which the variables are being used\n",
    "df = df.apply(lambda x: le.fit_transform(x) if x.dtypes == 'object' else x)\n",
    "\n",
    "train, test = train_test_split(df, test_size=0.2, random_state=42)"
   ]
  },
  {
   "cell_type": "code",
   "execution_count": 269,
   "metadata": {},
   "outputs": [
    {
     "data": {
      "text/plain": [
       "array([ 9.07106754e+00, -1.56732599e+00, -4.02486407e-01,  1.50361823e-01,\n",
       "        2.20555731e-01,  2.50891045e-01, -2.39608128e-01,  8.37087595e-02,\n",
       "        2.28247349e-01, -4.74827173e-03,  3.79265261e-01, -1.43499810e+00,\n",
       "       -1.57315388e+00,  8.70966787e-02, -5.35682846e-01,  2.29523963e-01,\n",
       "       -1.36418242e-01,  1.67312560e+00,  3.79898464e-01, -3.62603141e-01,\n",
       "        1.14281651e-01, -6.85033927e-02, -1.33179162e-01, -3.20039716e-01,\n",
       "       -4.39304993e-02, -2.09705581e-01, -4.79611302e-02])"
      ]
     },
     "execution_count": 269,
     "metadata": {},
     "output_type": "execute_result"
    }
   ],
   "source": [
    "def get_sq_errors(betas, df):\n",
    "    beta0, beta1, beta2, beta3, beta4, beta5, beta6, beta7, beta8,  beta9, beta10, beta11, beta12, beta13, beta14, beta15, beta16, beta17, beta18, beta19, beta20, beta21, beta22, beta23, beta24, beta25, beta26= betas\n",
    "    return sum((df[\"G3\"] - (beta0 + df[\"school\"]*beta1  + df[\"sex\"]*beta2 + df[\"age\"]*beta3 + df[\"address\"]*beta4 + df[\"famsize\"]*beta5 + df[\"Pstatus\"]*beta6 + df[\"Medu\"]*beta7 + df[\"Fedu\"]*beta8 + df[\"traveltime\"]*beta9 + df[\"studytime\"]*beta10 +df[\"failures\"]*beta11 + df[\"schoolsup\"]*beta12 + df[\"famsup\"]*beta13 + df[\"paid\"]*beta14 + df[\"activities\"]*beta15 + df[\"nursery\"]*beta16 + df[\"higher\"]*beta17 + df['internet']*beta18 +df[\"romantic\"]*beta19 + df['famrel']*beta20 + df['freetime']*beta21 + df[\"goout\"]*beta22 + df[\"Dalc\"]*beta23 + df[\"Walc\"]*beta24 + df[\"health\"]*beta25 +df[\"absences\"]*beta26))**2)\n",
    "         \n",
    "initial_guess = np.ones(27)\n",
    "\n",
    "results = minimize(get_sq_errors, args = train, method = \"BFGS\", x0 = initial_guess)\n",
    "\n",
    "fitted_params = results.x\n",
    "fitted_params"
   ]
  },
  {
   "cell_type": "markdown",
   "metadata": {},
   "source": [
    "## 3)  Do it again including G1 and G2, and compare the variance."
   ]
  },
  {
   "cell_type": "code",
   "execution_count": 270,
   "metadata": {},
   "outputs": [
    {
     "ename": "KeyboardInterrupt",
     "evalue": "",
     "output_type": "error",
     "traceback": [
      "\u001b[0;31m---------------------------------------------------------------------------\u001b[0m",
      "\u001b[0;31mKeyboardInterrupt\u001b[0m                         Traceback (most recent call last)",
      "\u001b[1;32m/Volumes/GoogleDrive-108720290059105288703/My Drive/Spring 2022/530/week 3/LinearRegression.ipynb Cell 9'\u001b[0m in \u001b[0;36m<module>\u001b[0;34m\u001b[0m\n\u001b[1;32m      <a href='vscode-notebook-cell:/Volumes/GoogleDrive-108720290059105288703/My%20Drive/Spring%202022/530/week%203/LinearRegression.ipynb#ch0000018?line=2'>3</a>\u001b[0m     \u001b[39mreturn\u001b[39;00m \u001b[39msum\u001b[39m((df[\u001b[39m\"\u001b[39m\u001b[39mG3\u001b[39m\u001b[39m\"\u001b[39m] \u001b[39m-\u001b[39m (beta0 \u001b[39m+\u001b[39m df[\u001b[39m\"\u001b[39m\u001b[39mschool\u001b[39m\u001b[39m\"\u001b[39m]\u001b[39m*\u001b[39mbeta1  \u001b[39m+\u001b[39m df[\u001b[39m\"\u001b[39m\u001b[39msex\u001b[39m\u001b[39m\"\u001b[39m]\u001b[39m*\u001b[39mbeta2 \u001b[39m+\u001b[39m df[\u001b[39m\"\u001b[39m\u001b[39mage\u001b[39m\u001b[39m\"\u001b[39m]\u001b[39m*\u001b[39mbeta3 \u001b[39m+\u001b[39m df[\u001b[39m\"\u001b[39m\u001b[39maddress\u001b[39m\u001b[39m\"\u001b[39m]\u001b[39m*\u001b[39mbeta4 \u001b[39m+\u001b[39m df[\u001b[39m\"\u001b[39m\u001b[39mfamsize\u001b[39m\u001b[39m\"\u001b[39m]\u001b[39m*\u001b[39mbeta5\u001b[39m+\u001b[39m df[\u001b[39m\"\u001b[39m\u001b[39mPstatus\u001b[39m\u001b[39m\"\u001b[39m]\u001b[39m*\u001b[39mbeta6 \u001b[39m+\u001b[39m df[\u001b[39m\"\u001b[39m\u001b[39mMedu\u001b[39m\u001b[39m\"\u001b[39m]\u001b[39m*\u001b[39mbeta7 \u001b[39m+\u001b[39m df[\u001b[39m\"\u001b[39m\u001b[39mFedu\u001b[39m\u001b[39m\"\u001b[39m]\u001b[39m*\u001b[39mbeta8 \u001b[39m+\u001b[39m df[\u001b[39m\"\u001b[39m\u001b[39mtraveltime\u001b[39m\u001b[39m\"\u001b[39m]\u001b[39m*\u001b[39mbeta9 \u001b[39m+\u001b[39m df[\u001b[39m\"\u001b[39m\u001b[39mstudytime\u001b[39m\u001b[39m\"\u001b[39m]\u001b[39m*\u001b[39mbeta10 \u001b[39m+\u001b[39mdf[\u001b[39m\"\u001b[39m\u001b[39mfailures\u001b[39m\u001b[39m\"\u001b[39m]\u001b[39m*\u001b[39mbeta11 \u001b[39m+\u001b[39m df[\u001b[39m\"\u001b[39m\u001b[39mschoolsup\u001b[39m\u001b[39m\"\u001b[39m]\u001b[39m*\u001b[39mbeta12 \u001b[39m+\u001b[39m df[\u001b[39m\"\u001b[39m\u001b[39mfamsup\u001b[39m\u001b[39m\"\u001b[39m]\u001b[39m*\u001b[39mbeta13 \u001b[39m+\u001b[39m df[\u001b[39m\"\u001b[39m\u001b[39mpaid\u001b[39m\u001b[39m\"\u001b[39m]\u001b[39m*\u001b[39mbeta14 \u001b[39m+\u001b[39m df[\u001b[39m\"\u001b[39m\u001b[39mactivities\u001b[39m\u001b[39m\"\u001b[39m]\u001b[39m*\u001b[39mbeta15 \u001b[39m+\u001b[39m df[\u001b[39m\"\u001b[39m\u001b[39mnursery\u001b[39m\u001b[39m\"\u001b[39m]\u001b[39m*\u001b[39mbeta16 \u001b[39m+\u001b[39m df[\u001b[39m\"\u001b[39m\u001b[39mhigher\u001b[39m\u001b[39m\"\u001b[39m]\u001b[39m*\u001b[39mbeta17 \u001b[39m+\u001b[39m df[\u001b[39m'\u001b[39m\u001b[39minternet\u001b[39m\u001b[39m'\u001b[39m]\u001b[39m*\u001b[39mbeta18 \u001b[39m+\u001b[39mdf[\u001b[39m\"\u001b[39m\u001b[39mromantic\u001b[39m\u001b[39m\"\u001b[39m]\u001b[39m*\u001b[39mbeta19 \u001b[39m+\u001b[39m df[\u001b[39m'\u001b[39m\u001b[39mfamrel\u001b[39m\u001b[39m'\u001b[39m]\u001b[39m*\u001b[39mbeta20 \u001b[39m+\u001b[39m df[\u001b[39m'\u001b[39m\u001b[39mfreetime\u001b[39m\u001b[39m'\u001b[39m]\u001b[39m*\u001b[39mbeta21 \u001b[39m+\u001b[39m df[\u001b[39m\"\u001b[39m\u001b[39mgoout\u001b[39m\u001b[39m\"\u001b[39m]\u001b[39m*\u001b[39mbeta22 \u001b[39m+\u001b[39m df[\u001b[39m\"\u001b[39m\u001b[39mDalc\u001b[39m\u001b[39m\"\u001b[39m]\u001b[39m*\u001b[39mbeta23 \u001b[39m+\u001b[39m df[\u001b[39m\"\u001b[39m\u001b[39mWalc\u001b[39m\u001b[39m\"\u001b[39m]\u001b[39m*\u001b[39mbeta24 \u001b[39m+\u001b[39m df[\u001b[39m\"\u001b[39m\u001b[39mhealth\u001b[39m\u001b[39m\"\u001b[39m]\u001b[39m*\u001b[39mbeta25 \u001b[39m+\u001b[39m df[\u001b[39m\"\u001b[39m\u001b[39mabsences\u001b[39m\u001b[39m\"\u001b[39m]\u001b[39m*\u001b[39mbeta26 \u001b[39m+\u001b[39mdf[\u001b[39m\"\u001b[39m\u001b[39mG1\u001b[39m\u001b[39m\"\u001b[39m]\u001b[39m*\u001b[39mbeta27 \u001b[39m+\u001b[39m df[\u001b[39m\"\u001b[39m\u001b[39mG2\u001b[39m\u001b[39m\"\u001b[39m]\u001b[39m*\u001b[39mbeta28))\u001b[39m*\u001b[39m\u001b[39m*\u001b[39m\u001b[39m2\u001b[39m)\n\u001b[1;32m      <a href='vscode-notebook-cell:/Volumes/GoogleDrive-108720290059105288703/My%20Drive/Spring%202022/530/week%203/LinearRegression.ipynb#ch0000018?line=4'>5</a>\u001b[0m initial_guess \u001b[39m=\u001b[39m np\u001b[39m.\u001b[39mones(\u001b[39m29\u001b[39m)\n\u001b[0;32m----> <a href='vscode-notebook-cell:/Volumes/GoogleDrive-108720290059105288703/My%20Drive/Spring%202022/530/week%203/LinearRegression.ipynb#ch0000018?line=6'>7</a>\u001b[0m res \u001b[39m=\u001b[39m minimize(get_sq_errors2, args \u001b[39m=\u001b[39;49m train, method \u001b[39m=\u001b[39;49m \u001b[39m\"\u001b[39;49m\u001b[39mBFGS\u001b[39;49m\u001b[39m\"\u001b[39;49m, x0 \u001b[39m=\u001b[39;49m initial_guess)\n\u001b[1;32m      <a href='vscode-notebook-cell:/Volumes/GoogleDrive-108720290059105288703/My%20Drive/Spring%202022/530/week%203/LinearRegression.ipynb#ch0000018?line=8'>9</a>\u001b[0m fitted_params_g1g2 \u001b[39m=\u001b[39m res\u001b[39m.\u001b[39mx\n\u001b[1;32m     <a href='vscode-notebook-cell:/Volumes/GoogleDrive-108720290059105288703/My%20Drive/Spring%202022/530/week%203/LinearRegression.ipynb#ch0000018?line=9'>10</a>\u001b[0m fitted_params_g1g2\n",
      "File \u001b[0;32m/Library/Frameworks/Python.framework/Versions/3.10/lib/python3.10/site-packages/scipy/optimize/_minimize.py:676\u001b[0m, in \u001b[0;36mminimize\u001b[0;34m(fun, x0, args, method, jac, hess, hessp, bounds, constraints, tol, callback, options)\u001b[0m\n\u001b[1;32m    <a href='file:///Library/Frameworks/Python.framework/Versions/3.10/lib/python3.10/site-packages/scipy/optimize/_minimize.py?line=673'>674</a>\u001b[0m     res \u001b[39m=\u001b[39m _minimize_cg(fun, x0, args, jac, callback, \u001b[39m*\u001b[39m\u001b[39m*\u001b[39moptions)\n\u001b[1;32m    <a href='file:///Library/Frameworks/Python.framework/Versions/3.10/lib/python3.10/site-packages/scipy/optimize/_minimize.py?line=674'>675</a>\u001b[0m \u001b[39melif\u001b[39;00m meth \u001b[39m==\u001b[39m \u001b[39m'\u001b[39m\u001b[39mbfgs\u001b[39m\u001b[39m'\u001b[39m:\n\u001b[0;32m--> <a href='file:///Library/Frameworks/Python.framework/Versions/3.10/lib/python3.10/site-packages/scipy/optimize/_minimize.py?line=675'>676</a>\u001b[0m     res \u001b[39m=\u001b[39m _minimize_bfgs(fun, x0, args, jac, callback, \u001b[39m*\u001b[39;49m\u001b[39m*\u001b[39;49moptions)\n\u001b[1;32m    <a href='file:///Library/Frameworks/Python.framework/Versions/3.10/lib/python3.10/site-packages/scipy/optimize/_minimize.py?line=676'>677</a>\u001b[0m \u001b[39melif\u001b[39;00m meth \u001b[39m==\u001b[39m \u001b[39m'\u001b[39m\u001b[39mnewton-cg\u001b[39m\u001b[39m'\u001b[39m:\n\u001b[1;32m    <a href='file:///Library/Frameworks/Python.framework/Versions/3.10/lib/python3.10/site-packages/scipy/optimize/_minimize.py?line=677'>678</a>\u001b[0m     res \u001b[39m=\u001b[39m _minimize_newtoncg(fun, x0, args, jac, hess, hessp, callback,\n\u001b[1;32m    <a href='file:///Library/Frameworks/Python.framework/Versions/3.10/lib/python3.10/site-packages/scipy/optimize/_minimize.py?line=678'>679</a>\u001b[0m                              \u001b[39m*\u001b[39m\u001b[39m*\u001b[39moptions)\n",
      "File \u001b[0;32m/Library/Frameworks/Python.framework/Versions/3.10/lib/python3.10/site-packages/scipy/optimize/_optimize.py:1322\u001b[0m, in \u001b[0;36m_minimize_bfgs\u001b[0;34m(fun, x0, args, jac, callback, gtol, norm, eps, maxiter, disp, return_all, finite_diff_rel_step, **unknown_options)\u001b[0m\n\u001b[1;32m   <a href='file:///Library/Frameworks/Python.framework/Versions/3.10/lib/python3.10/site-packages/scipy/optimize/_optimize.py?line=1318'>1319</a>\u001b[0m pk \u001b[39m=\u001b[39m \u001b[39m-\u001b[39mnp\u001b[39m.\u001b[39mdot(Hk, gfk)\n\u001b[1;32m   <a href='file:///Library/Frameworks/Python.framework/Versions/3.10/lib/python3.10/site-packages/scipy/optimize/_optimize.py?line=1319'>1320</a>\u001b[0m \u001b[39mtry\u001b[39;00m:\n\u001b[1;32m   <a href='file:///Library/Frameworks/Python.framework/Versions/3.10/lib/python3.10/site-packages/scipy/optimize/_optimize.py?line=1320'>1321</a>\u001b[0m     alpha_k, fc, gc, old_fval, old_old_fval, gfkp1 \u001b[39m=\u001b[39m \\\n\u001b[0;32m-> <a href='file:///Library/Frameworks/Python.framework/Versions/3.10/lib/python3.10/site-packages/scipy/optimize/_optimize.py?line=1321'>1322</a>\u001b[0m              _line_search_wolfe12(f, myfprime, xk, pk, gfk,\n\u001b[1;32m   <a href='file:///Library/Frameworks/Python.framework/Versions/3.10/lib/python3.10/site-packages/scipy/optimize/_optimize.py?line=1322'>1323</a>\u001b[0m                                   old_fval, old_old_fval, amin\u001b[39m=\u001b[39;49m\u001b[39m1e-100\u001b[39;49m, amax\u001b[39m=\u001b[39;49m\u001b[39m1e100\u001b[39;49m)\n\u001b[1;32m   <a href='file:///Library/Frameworks/Python.framework/Versions/3.10/lib/python3.10/site-packages/scipy/optimize/_optimize.py?line=1323'>1324</a>\u001b[0m \u001b[39mexcept\u001b[39;00m _LineSearchError:\n\u001b[1;32m   <a href='file:///Library/Frameworks/Python.framework/Versions/3.10/lib/python3.10/site-packages/scipy/optimize/_optimize.py?line=1324'>1325</a>\u001b[0m     \u001b[39m# Line search failed to find a better solution.\u001b[39;00m\n\u001b[1;32m   <a href='file:///Library/Frameworks/Python.framework/Versions/3.10/lib/python3.10/site-packages/scipy/optimize/_optimize.py?line=1325'>1326</a>\u001b[0m     warnflag \u001b[39m=\u001b[39m \u001b[39m2\u001b[39m\n",
      "File \u001b[0;32m/Library/Frameworks/Python.framework/Versions/3.10/lib/python3.10/site-packages/scipy/optimize/_optimize.py:1100\u001b[0m, in \u001b[0;36m_line_search_wolfe12\u001b[0;34m(f, fprime, xk, pk, gfk, old_fval, old_old_fval, **kwargs)\u001b[0m\n\u001b[1;32m   <a href='file:///Library/Frameworks/Python.framework/Versions/3.10/lib/python3.10/site-packages/scipy/optimize/_optimize.py?line=1085'>1086</a>\u001b[0m \u001b[39m\"\"\"\u001b[39;00m\n\u001b[1;32m   <a href='file:///Library/Frameworks/Python.framework/Versions/3.10/lib/python3.10/site-packages/scipy/optimize/_optimize.py?line=1086'>1087</a>\u001b[0m \u001b[39mSame as line_search_wolfe1, but fall back to line_search_wolfe2 if\u001b[39;00m\n\u001b[1;32m   <a href='file:///Library/Frameworks/Python.framework/Versions/3.10/lib/python3.10/site-packages/scipy/optimize/_optimize.py?line=1087'>1088</a>\u001b[0m \u001b[39msuitable step length is not found, and raise an exception if a\u001b[39;00m\n\u001b[0;32m   (...)\u001b[0m\n\u001b[1;32m   <a href='file:///Library/Frameworks/Python.framework/Versions/3.10/lib/python3.10/site-packages/scipy/optimize/_optimize.py?line=1094'>1095</a>\u001b[0m \n\u001b[1;32m   <a href='file:///Library/Frameworks/Python.framework/Versions/3.10/lib/python3.10/site-packages/scipy/optimize/_optimize.py?line=1095'>1096</a>\u001b[0m \u001b[39m\"\"\"\u001b[39;00m\n\u001b[1;32m   <a href='file:///Library/Frameworks/Python.framework/Versions/3.10/lib/python3.10/site-packages/scipy/optimize/_optimize.py?line=1097'>1098</a>\u001b[0m extra_condition \u001b[39m=\u001b[39m kwargs\u001b[39m.\u001b[39mpop(\u001b[39m'\u001b[39m\u001b[39mextra_condition\u001b[39m\u001b[39m'\u001b[39m, \u001b[39mNone\u001b[39;00m)\n\u001b[0;32m-> <a href='file:///Library/Frameworks/Python.framework/Versions/3.10/lib/python3.10/site-packages/scipy/optimize/_optimize.py?line=1099'>1100</a>\u001b[0m ret \u001b[39m=\u001b[39m line_search_wolfe1(f, fprime, xk, pk, gfk,\n\u001b[1;32m   <a href='file:///Library/Frameworks/Python.framework/Versions/3.10/lib/python3.10/site-packages/scipy/optimize/_optimize.py?line=1100'>1101</a>\u001b[0m                          old_fval, old_old_fval,\n\u001b[1;32m   <a href='file:///Library/Frameworks/Python.framework/Versions/3.10/lib/python3.10/site-packages/scipy/optimize/_optimize.py?line=1101'>1102</a>\u001b[0m                          \u001b[39m*\u001b[39;49m\u001b[39m*\u001b[39;49mkwargs)\n\u001b[1;32m   <a href='file:///Library/Frameworks/Python.framework/Versions/3.10/lib/python3.10/site-packages/scipy/optimize/_optimize.py?line=1103'>1104</a>\u001b[0m \u001b[39mif\u001b[39;00m ret[\u001b[39m0\u001b[39m] \u001b[39mis\u001b[39;00m \u001b[39mnot\u001b[39;00m \u001b[39mNone\u001b[39;00m \u001b[39mand\u001b[39;00m extra_condition \u001b[39mis\u001b[39;00m \u001b[39mnot\u001b[39;00m \u001b[39mNone\u001b[39;00m:\n\u001b[1;32m   <a href='file:///Library/Frameworks/Python.framework/Versions/3.10/lib/python3.10/site-packages/scipy/optimize/_optimize.py?line=1104'>1105</a>\u001b[0m     xp1 \u001b[39m=\u001b[39m xk \u001b[39m+\u001b[39m ret[\u001b[39m0\u001b[39m] \u001b[39m*\u001b[39m pk\n",
      "File \u001b[0;32m/Library/Frameworks/Python.framework/Versions/3.10/lib/python3.10/site-packages/scipy/optimize/_linesearch.py:84\u001b[0m, in \u001b[0;36mline_search_wolfe1\u001b[0;34m(f, fprime, xk, pk, gfk, old_fval, old_old_fval, args, c1, c2, amax, amin, xtol)\u001b[0m\n\u001b[1;32m     <a href='file:///Library/Frameworks/Python.framework/Versions/3.10/lib/python3.10/site-packages/scipy/optimize/_linesearch.py?line=79'>80</a>\u001b[0m     \u001b[39mreturn\u001b[39;00m np\u001b[39m.\u001b[39mdot(gval[\u001b[39m0\u001b[39m], pk)\n\u001b[1;32m     <a href='file:///Library/Frameworks/Python.framework/Versions/3.10/lib/python3.10/site-packages/scipy/optimize/_linesearch.py?line=81'>82</a>\u001b[0m derphi0 \u001b[39m=\u001b[39m np\u001b[39m.\u001b[39mdot(gfk, pk)\n\u001b[0;32m---> <a href='file:///Library/Frameworks/Python.framework/Versions/3.10/lib/python3.10/site-packages/scipy/optimize/_linesearch.py?line=83'>84</a>\u001b[0m stp, fval, old_fval \u001b[39m=\u001b[39m scalar_search_wolfe1(\n\u001b[1;32m     <a href='file:///Library/Frameworks/Python.framework/Versions/3.10/lib/python3.10/site-packages/scipy/optimize/_linesearch.py?line=84'>85</a>\u001b[0m         phi, derphi, old_fval, old_old_fval, derphi0,\n\u001b[1;32m     <a href='file:///Library/Frameworks/Python.framework/Versions/3.10/lib/python3.10/site-packages/scipy/optimize/_linesearch.py?line=85'>86</a>\u001b[0m         c1\u001b[39m=\u001b[39;49mc1, c2\u001b[39m=\u001b[39;49mc2, amax\u001b[39m=\u001b[39;49mamax, amin\u001b[39m=\u001b[39;49mamin, xtol\u001b[39m=\u001b[39;49mxtol)\n\u001b[1;32m     <a href='file:///Library/Frameworks/Python.framework/Versions/3.10/lib/python3.10/site-packages/scipy/optimize/_linesearch.py?line=87'>88</a>\u001b[0m \u001b[39mreturn\u001b[39;00m stp, fc[\u001b[39m0\u001b[39m], gc[\u001b[39m0\u001b[39m], fval, old_fval, gval[\u001b[39m0\u001b[39m]\n",
      "File \u001b[0;32m/Library/Frameworks/Python.framework/Versions/3.10/lib/python3.10/site-packages/scipy/optimize/_linesearch.py:161\u001b[0m, in \u001b[0;36mscalar_search_wolfe1\u001b[0;34m(phi, derphi, phi0, old_phi0, derphi0, c1, c2, amax, amin, xtol)\u001b[0m\n\u001b[1;32m    <a href='file:///Library/Frameworks/Python.framework/Versions/3.10/lib/python3.10/site-packages/scipy/optimize/_linesearch.py?line=158'>159</a>\u001b[0m     alpha1 \u001b[39m=\u001b[39m stp\n\u001b[1;32m    <a href='file:///Library/Frameworks/Python.framework/Versions/3.10/lib/python3.10/site-packages/scipy/optimize/_linesearch.py?line=159'>160</a>\u001b[0m     phi1 \u001b[39m=\u001b[39m phi(stp)\n\u001b[0;32m--> <a href='file:///Library/Frameworks/Python.framework/Versions/3.10/lib/python3.10/site-packages/scipy/optimize/_linesearch.py?line=160'>161</a>\u001b[0m     derphi1 \u001b[39m=\u001b[39m derphi(stp)\n\u001b[1;32m    <a href='file:///Library/Frameworks/Python.framework/Versions/3.10/lib/python3.10/site-packages/scipy/optimize/_linesearch.py?line=161'>162</a>\u001b[0m \u001b[39melse\u001b[39;00m:\n\u001b[1;32m    <a href='file:///Library/Frameworks/Python.framework/Versions/3.10/lib/python3.10/site-packages/scipy/optimize/_linesearch.py?line=162'>163</a>\u001b[0m     \u001b[39mbreak\u001b[39;00m\n",
      "File \u001b[0;32m/Library/Frameworks/Python.framework/Versions/3.10/lib/python3.10/site-packages/scipy/optimize/_linesearch.py:78\u001b[0m, in \u001b[0;36mline_search_wolfe1.<locals>.derphi\u001b[0;34m(s)\u001b[0m\n\u001b[1;32m     <a href='file:///Library/Frameworks/Python.framework/Versions/3.10/lib/python3.10/site-packages/scipy/optimize/_linesearch.py?line=76'>77</a>\u001b[0m \u001b[39mdef\u001b[39;00m \u001b[39mderphi\u001b[39m(s):\n\u001b[0;32m---> <a href='file:///Library/Frameworks/Python.framework/Versions/3.10/lib/python3.10/site-packages/scipy/optimize/_linesearch.py?line=77'>78</a>\u001b[0m     gval[\u001b[39m0\u001b[39m] \u001b[39m=\u001b[39m fprime(xk \u001b[39m+\u001b[39;49m s\u001b[39m*\u001b[39;49mpk, \u001b[39m*\u001b[39;49margs)\n\u001b[1;32m     <a href='file:///Library/Frameworks/Python.framework/Versions/3.10/lib/python3.10/site-packages/scipy/optimize/_linesearch.py?line=78'>79</a>\u001b[0m     gc[\u001b[39m0\u001b[39m] \u001b[39m+\u001b[39m\u001b[39m=\u001b[39m \u001b[39m1\u001b[39m\n\u001b[1;32m     <a href='file:///Library/Frameworks/Python.framework/Versions/3.10/lib/python3.10/site-packages/scipy/optimize/_linesearch.py?line=79'>80</a>\u001b[0m     \u001b[39mreturn\u001b[39;00m np\u001b[39m.\u001b[39mdot(gval[\u001b[39m0\u001b[39m], pk)\n",
      "File \u001b[0;32m/Library/Frameworks/Python.framework/Versions/3.10/lib/python3.10/site-packages/scipy/optimize/_differentiable_functions.py:273\u001b[0m, in \u001b[0;36mScalarFunction.grad\u001b[0;34m(self, x)\u001b[0m\n\u001b[1;32m    <a href='file:///Library/Frameworks/Python.framework/Versions/3.10/lib/python3.10/site-packages/scipy/optimize/_differentiable_functions.py?line=270'>271</a>\u001b[0m \u001b[39mif\u001b[39;00m \u001b[39mnot\u001b[39;00m np\u001b[39m.\u001b[39marray_equal(x, \u001b[39mself\u001b[39m\u001b[39m.\u001b[39mx):\n\u001b[1;32m    <a href='file:///Library/Frameworks/Python.framework/Versions/3.10/lib/python3.10/site-packages/scipy/optimize/_differentiable_functions.py?line=271'>272</a>\u001b[0m     \u001b[39mself\u001b[39m\u001b[39m.\u001b[39m_update_x_impl(x)\n\u001b[0;32m--> <a href='file:///Library/Frameworks/Python.framework/Versions/3.10/lib/python3.10/site-packages/scipy/optimize/_differentiable_functions.py?line=272'>273</a>\u001b[0m \u001b[39mself\u001b[39;49m\u001b[39m.\u001b[39;49m_update_grad()\n\u001b[1;32m    <a href='file:///Library/Frameworks/Python.framework/Versions/3.10/lib/python3.10/site-packages/scipy/optimize/_differentiable_functions.py?line=273'>274</a>\u001b[0m \u001b[39mreturn\u001b[39;00m \u001b[39mself\u001b[39m\u001b[39m.\u001b[39mg\n",
      "File \u001b[0;32m/Library/Frameworks/Python.framework/Versions/3.10/lib/python3.10/site-packages/scipy/optimize/_differentiable_functions.py:256\u001b[0m, in \u001b[0;36mScalarFunction._update_grad\u001b[0;34m(self)\u001b[0m\n\u001b[1;32m    <a href='file:///Library/Frameworks/Python.framework/Versions/3.10/lib/python3.10/site-packages/scipy/optimize/_differentiable_functions.py?line=253'>254</a>\u001b[0m \u001b[39mdef\u001b[39;00m \u001b[39m_update_grad\u001b[39m(\u001b[39mself\u001b[39m):\n\u001b[1;32m    <a href='file:///Library/Frameworks/Python.framework/Versions/3.10/lib/python3.10/site-packages/scipy/optimize/_differentiable_functions.py?line=254'>255</a>\u001b[0m     \u001b[39mif\u001b[39;00m \u001b[39mnot\u001b[39;00m \u001b[39mself\u001b[39m\u001b[39m.\u001b[39mg_updated:\n\u001b[0;32m--> <a href='file:///Library/Frameworks/Python.framework/Versions/3.10/lib/python3.10/site-packages/scipy/optimize/_differentiable_functions.py?line=255'>256</a>\u001b[0m         \u001b[39mself\u001b[39;49m\u001b[39m.\u001b[39;49m_update_grad_impl()\n\u001b[1;32m    <a href='file:///Library/Frameworks/Python.framework/Versions/3.10/lib/python3.10/site-packages/scipy/optimize/_differentiable_functions.py?line=256'>257</a>\u001b[0m         \u001b[39mself\u001b[39m\u001b[39m.\u001b[39mg_updated \u001b[39m=\u001b[39m \u001b[39mTrue\u001b[39;00m\n",
      "File \u001b[0;32m/Library/Frameworks/Python.framework/Versions/3.10/lib/python3.10/site-packages/scipy/optimize/_differentiable_functions.py:173\u001b[0m, in \u001b[0;36mScalarFunction.__init__.<locals>.update_grad\u001b[0;34m()\u001b[0m\n\u001b[1;32m    <a href='file:///Library/Frameworks/Python.framework/Versions/3.10/lib/python3.10/site-packages/scipy/optimize/_differentiable_functions.py?line=170'>171</a>\u001b[0m \u001b[39mself\u001b[39m\u001b[39m.\u001b[39m_update_fun()\n\u001b[1;32m    <a href='file:///Library/Frameworks/Python.framework/Versions/3.10/lib/python3.10/site-packages/scipy/optimize/_differentiable_functions.py?line=171'>172</a>\u001b[0m \u001b[39mself\u001b[39m\u001b[39m.\u001b[39mngev \u001b[39m+\u001b[39m\u001b[39m=\u001b[39m \u001b[39m1\u001b[39m\n\u001b[0;32m--> <a href='file:///Library/Frameworks/Python.framework/Versions/3.10/lib/python3.10/site-packages/scipy/optimize/_differentiable_functions.py?line=172'>173</a>\u001b[0m \u001b[39mself\u001b[39m\u001b[39m.\u001b[39mg \u001b[39m=\u001b[39m approx_derivative(fun_wrapped, \u001b[39mself\u001b[39;49m\u001b[39m.\u001b[39;49mx, f0\u001b[39m=\u001b[39;49m\u001b[39mself\u001b[39;49m\u001b[39m.\u001b[39;49mf,\n\u001b[1;32m    <a href='file:///Library/Frameworks/Python.framework/Versions/3.10/lib/python3.10/site-packages/scipy/optimize/_differentiable_functions.py?line=173'>174</a>\u001b[0m                            \u001b[39m*\u001b[39;49m\u001b[39m*\u001b[39;49mfinite_diff_options)\n",
      "File \u001b[0;32m/Library/Frameworks/Python.framework/Versions/3.10/lib/python3.10/site-packages/scipy/optimize/_numdiff.py:505\u001b[0m, in \u001b[0;36mapprox_derivative\u001b[0;34m(fun, x0, method, rel_step, abs_step, f0, bounds, sparsity, as_linear_operator, args, kwargs)\u001b[0m\n\u001b[1;32m    <a href='file:///Library/Frameworks/Python.framework/Versions/3.10/lib/python3.10/site-packages/scipy/optimize/_numdiff.py?line=501'>502</a>\u001b[0m     use_one_sided \u001b[39m=\u001b[39m \u001b[39mFalse\u001b[39;00m\n\u001b[1;32m    <a href='file:///Library/Frameworks/Python.framework/Versions/3.10/lib/python3.10/site-packages/scipy/optimize/_numdiff.py?line=503'>504</a>\u001b[0m \u001b[39mif\u001b[39;00m sparsity \u001b[39mis\u001b[39;00m \u001b[39mNone\u001b[39;00m:\n\u001b[0;32m--> <a href='file:///Library/Frameworks/Python.framework/Versions/3.10/lib/python3.10/site-packages/scipy/optimize/_numdiff.py?line=504'>505</a>\u001b[0m     \u001b[39mreturn\u001b[39;00m _dense_difference(fun_wrapped, x0, f0, h,\n\u001b[1;32m    <a href='file:///Library/Frameworks/Python.framework/Versions/3.10/lib/python3.10/site-packages/scipy/optimize/_numdiff.py?line=505'>506</a>\u001b[0m                              use_one_sided, method)\n\u001b[1;32m    <a href='file:///Library/Frameworks/Python.framework/Versions/3.10/lib/python3.10/site-packages/scipy/optimize/_numdiff.py?line=506'>507</a>\u001b[0m \u001b[39melse\u001b[39;00m:\n\u001b[1;32m    <a href='file:///Library/Frameworks/Python.framework/Versions/3.10/lib/python3.10/site-packages/scipy/optimize/_numdiff.py?line=507'>508</a>\u001b[0m     \u001b[39mif\u001b[39;00m \u001b[39mnot\u001b[39;00m issparse(sparsity) \u001b[39mand\u001b[39;00m \u001b[39mlen\u001b[39m(sparsity) \u001b[39m==\u001b[39m \u001b[39m2\u001b[39m:\n",
      "File \u001b[0;32m/Library/Frameworks/Python.framework/Versions/3.10/lib/python3.10/site-packages/scipy/optimize/_numdiff.py:576\u001b[0m, in \u001b[0;36m_dense_difference\u001b[0;34m(fun, x0, f0, h, use_one_sided, method)\u001b[0m\n\u001b[1;32m    <a href='file:///Library/Frameworks/Python.framework/Versions/3.10/lib/python3.10/site-packages/scipy/optimize/_numdiff.py?line=573'>574</a>\u001b[0m     x \u001b[39m=\u001b[39m x0 \u001b[39m+\u001b[39m h_vecs[i]\n\u001b[1;32m    <a href='file:///Library/Frameworks/Python.framework/Versions/3.10/lib/python3.10/site-packages/scipy/optimize/_numdiff.py?line=574'>575</a>\u001b[0m     dx \u001b[39m=\u001b[39m x[i] \u001b[39m-\u001b[39m x0[i]  \u001b[39m# Recompute dx as exactly representable number.\u001b[39;00m\n\u001b[0;32m--> <a href='file:///Library/Frameworks/Python.framework/Versions/3.10/lib/python3.10/site-packages/scipy/optimize/_numdiff.py?line=575'>576</a>\u001b[0m     df \u001b[39m=\u001b[39m fun(x) \u001b[39m-\u001b[39m f0\n\u001b[1;32m    <a href='file:///Library/Frameworks/Python.framework/Versions/3.10/lib/python3.10/site-packages/scipy/optimize/_numdiff.py?line=576'>577</a>\u001b[0m \u001b[39melif\u001b[39;00m method \u001b[39m==\u001b[39m \u001b[39m'\u001b[39m\u001b[39m3-point\u001b[39m\u001b[39m'\u001b[39m \u001b[39mand\u001b[39;00m use_one_sided[i]:\n\u001b[1;32m    <a href='file:///Library/Frameworks/Python.framework/Versions/3.10/lib/python3.10/site-packages/scipy/optimize/_numdiff.py?line=577'>578</a>\u001b[0m     x1 \u001b[39m=\u001b[39m x0 \u001b[39m+\u001b[39m h_vecs[i]\n",
      "File \u001b[0;32m/Library/Frameworks/Python.framework/Versions/3.10/lib/python3.10/site-packages/scipy/optimize/_numdiff.py:456\u001b[0m, in \u001b[0;36mapprox_derivative.<locals>.fun_wrapped\u001b[0;34m(x)\u001b[0m\n\u001b[1;32m    <a href='file:///Library/Frameworks/Python.framework/Versions/3.10/lib/python3.10/site-packages/scipy/optimize/_numdiff.py?line=454'>455</a>\u001b[0m \u001b[39mdef\u001b[39;00m \u001b[39mfun_wrapped\u001b[39m(x):\n\u001b[0;32m--> <a href='file:///Library/Frameworks/Python.framework/Versions/3.10/lib/python3.10/site-packages/scipy/optimize/_numdiff.py?line=455'>456</a>\u001b[0m     f \u001b[39m=\u001b[39m np\u001b[39m.\u001b[39matleast_1d(fun(x, \u001b[39m*\u001b[39;49margs, \u001b[39m*\u001b[39;49m\u001b[39m*\u001b[39;49mkwargs))\n\u001b[1;32m    <a href='file:///Library/Frameworks/Python.framework/Versions/3.10/lib/python3.10/site-packages/scipy/optimize/_numdiff.py?line=456'>457</a>\u001b[0m     \u001b[39mif\u001b[39;00m f\u001b[39m.\u001b[39mndim \u001b[39m>\u001b[39m \u001b[39m1\u001b[39m:\n\u001b[1;32m    <a href='file:///Library/Frameworks/Python.framework/Versions/3.10/lib/python3.10/site-packages/scipy/optimize/_numdiff.py?line=457'>458</a>\u001b[0m         \u001b[39mraise\u001b[39;00m \u001b[39mRuntimeError\u001b[39;00m(\u001b[39m\"\u001b[39m\u001b[39m`fun` return value has \u001b[39m\u001b[39m\"\u001b[39m\n\u001b[1;32m    <a href='file:///Library/Frameworks/Python.framework/Versions/3.10/lib/python3.10/site-packages/scipy/optimize/_numdiff.py?line=458'>459</a>\u001b[0m                            \u001b[39m\"\u001b[39m\u001b[39mmore than 1 dimension.\u001b[39m\u001b[39m\"\u001b[39m)\n",
      "File \u001b[0;32m/Library/Frameworks/Python.framework/Versions/3.10/lib/python3.10/site-packages/scipy/optimize/_differentiable_functions.py:137\u001b[0m, in \u001b[0;36mScalarFunction.__init__.<locals>.fun_wrapped\u001b[0;34m(x)\u001b[0m\n\u001b[1;32m    <a href='file:///Library/Frameworks/Python.framework/Versions/3.10/lib/python3.10/site-packages/scipy/optimize/_differentiable_functions.py?line=132'>133</a>\u001b[0m \u001b[39mself\u001b[39m\u001b[39m.\u001b[39mnfev \u001b[39m+\u001b[39m\u001b[39m=\u001b[39m \u001b[39m1\u001b[39m\n\u001b[1;32m    <a href='file:///Library/Frameworks/Python.framework/Versions/3.10/lib/python3.10/site-packages/scipy/optimize/_differentiable_functions.py?line=133'>134</a>\u001b[0m \u001b[39m# Send a copy because the user may overwrite it.\u001b[39;00m\n\u001b[1;32m    <a href='file:///Library/Frameworks/Python.framework/Versions/3.10/lib/python3.10/site-packages/scipy/optimize/_differentiable_functions.py?line=134'>135</a>\u001b[0m \u001b[39m# Overwriting results in undefined behaviour because\u001b[39;00m\n\u001b[1;32m    <a href='file:///Library/Frameworks/Python.framework/Versions/3.10/lib/python3.10/site-packages/scipy/optimize/_differentiable_functions.py?line=135'>136</a>\u001b[0m \u001b[39m# fun(self.x) will change self.x, with the two no longer linked.\u001b[39;00m\n\u001b[0;32m--> <a href='file:///Library/Frameworks/Python.framework/Versions/3.10/lib/python3.10/site-packages/scipy/optimize/_differentiable_functions.py?line=136'>137</a>\u001b[0m fx \u001b[39m=\u001b[39m fun(np\u001b[39m.\u001b[39;49mcopy(x), \u001b[39m*\u001b[39;49margs)\n\u001b[1;32m    <a href='file:///Library/Frameworks/Python.framework/Versions/3.10/lib/python3.10/site-packages/scipy/optimize/_differentiable_functions.py?line=137'>138</a>\u001b[0m \u001b[39m# Make sure the function returns a true scalar\u001b[39;00m\n\u001b[1;32m    <a href='file:///Library/Frameworks/Python.framework/Versions/3.10/lib/python3.10/site-packages/scipy/optimize/_differentiable_functions.py?line=138'>139</a>\u001b[0m \u001b[39mif\u001b[39;00m \u001b[39mnot\u001b[39;00m np\u001b[39m.\u001b[39misscalar(fx):\n",
      "\u001b[1;32m/Volumes/GoogleDrive-108720290059105288703/My Drive/Spring 2022/530/week 3/LinearRegression.ipynb Cell 9'\u001b[0m in \u001b[0;36mget_sq_errors2\u001b[0;34m(betas, df)\u001b[0m\n\u001b[1;32m      <a href='vscode-notebook-cell:/Volumes/GoogleDrive-108720290059105288703/My%20Drive/Spring%202022/530/week%203/LinearRegression.ipynb#ch0000018?line=0'>1</a>\u001b[0m \u001b[39mdef\u001b[39;00m \u001b[39mget_sq_errors2\u001b[39m(betas, df):\n\u001b[1;32m      <a href='vscode-notebook-cell:/Volumes/GoogleDrive-108720290059105288703/My%20Drive/Spring%202022/530/week%203/LinearRegression.ipynb#ch0000018?line=1'>2</a>\u001b[0m     beta0, beta1, beta2, beta3, beta4, beta5, beta6, beta7, beta8,  beta9, beta10, beta11, beta12, beta13, beta14, beta15, beta16, beta17, beta18, beta19, beta20, beta21, beta22, beta23, beta24, beta25, beta26, beta27, beta28 \u001b[39m=\u001b[39m betas\n\u001b[0;32m----> <a href='vscode-notebook-cell:/Volumes/GoogleDrive-108720290059105288703/My%20Drive/Spring%202022/530/week%203/LinearRegression.ipynb#ch0000018?line=2'>3</a>\u001b[0m     \u001b[39mreturn\u001b[39;00m \u001b[39msum\u001b[39m((df[\u001b[39m\"\u001b[39m\u001b[39mG3\u001b[39m\u001b[39m\"\u001b[39m] \u001b[39m-\u001b[39m (beta0 \u001b[39m+\u001b[39;49m df[\u001b[39m\"\u001b[39;49m\u001b[39mschool\u001b[39;49m\u001b[39m\"\u001b[39;49m]\u001b[39m*\u001b[39;49mbeta1  \u001b[39m+\u001b[39;49m df[\u001b[39m\"\u001b[39;49m\u001b[39msex\u001b[39;49m\u001b[39m\"\u001b[39;49m]\u001b[39m*\u001b[39;49mbeta2 \u001b[39m+\u001b[39;49m df[\u001b[39m\"\u001b[39;49m\u001b[39mage\u001b[39;49m\u001b[39m\"\u001b[39;49m]\u001b[39m*\u001b[39;49mbeta3 \u001b[39m+\u001b[39;49m df[\u001b[39m\"\u001b[39;49m\u001b[39maddress\u001b[39;49m\u001b[39m\"\u001b[39;49m]\u001b[39m*\u001b[39;49mbeta4 \u001b[39m+\u001b[39;49m df[\u001b[39m\"\u001b[39;49m\u001b[39mfamsize\u001b[39;49m\u001b[39m\"\u001b[39;49m]\u001b[39m*\u001b[39;49mbeta5\u001b[39m+\u001b[39m df[\u001b[39m\"\u001b[39m\u001b[39mPstatus\u001b[39m\u001b[39m\"\u001b[39m]\u001b[39m*\u001b[39mbeta6 \u001b[39m+\u001b[39m df[\u001b[39m\"\u001b[39m\u001b[39mMedu\u001b[39m\u001b[39m\"\u001b[39m]\u001b[39m*\u001b[39mbeta7 \u001b[39m+\u001b[39m df[\u001b[39m\"\u001b[39m\u001b[39mFedu\u001b[39m\u001b[39m\"\u001b[39m]\u001b[39m*\u001b[39mbeta8 \u001b[39m+\u001b[39m df[\u001b[39m\"\u001b[39m\u001b[39mtraveltime\u001b[39m\u001b[39m\"\u001b[39m]\u001b[39m*\u001b[39mbeta9 \u001b[39m+\u001b[39m df[\u001b[39m\"\u001b[39m\u001b[39mstudytime\u001b[39m\u001b[39m\"\u001b[39m]\u001b[39m*\u001b[39mbeta10 \u001b[39m+\u001b[39mdf[\u001b[39m\"\u001b[39m\u001b[39mfailures\u001b[39m\u001b[39m\"\u001b[39m]\u001b[39m*\u001b[39mbeta11 \u001b[39m+\u001b[39m df[\u001b[39m\"\u001b[39m\u001b[39mschoolsup\u001b[39m\u001b[39m\"\u001b[39m]\u001b[39m*\u001b[39mbeta12 \u001b[39m+\u001b[39m df[\u001b[39m\"\u001b[39m\u001b[39mfamsup\u001b[39m\u001b[39m\"\u001b[39m]\u001b[39m*\u001b[39mbeta13 \u001b[39m+\u001b[39m df[\u001b[39m\"\u001b[39m\u001b[39mpaid\u001b[39m\u001b[39m\"\u001b[39m]\u001b[39m*\u001b[39mbeta14 \u001b[39m+\u001b[39m df[\u001b[39m\"\u001b[39m\u001b[39mactivities\u001b[39m\u001b[39m\"\u001b[39m]\u001b[39m*\u001b[39mbeta15 \u001b[39m+\u001b[39m df[\u001b[39m\"\u001b[39m\u001b[39mnursery\u001b[39m\u001b[39m\"\u001b[39m]\u001b[39m*\u001b[39mbeta16 \u001b[39m+\u001b[39m df[\u001b[39m\"\u001b[39m\u001b[39mhigher\u001b[39m\u001b[39m\"\u001b[39m]\u001b[39m*\u001b[39mbeta17 \u001b[39m+\u001b[39m df[\u001b[39m'\u001b[39m\u001b[39minternet\u001b[39m\u001b[39m'\u001b[39m]\u001b[39m*\u001b[39mbeta18 \u001b[39m+\u001b[39mdf[\u001b[39m\"\u001b[39m\u001b[39mromantic\u001b[39m\u001b[39m\"\u001b[39m]\u001b[39m*\u001b[39mbeta19 \u001b[39m+\u001b[39m df[\u001b[39m'\u001b[39m\u001b[39mfamrel\u001b[39m\u001b[39m'\u001b[39m]\u001b[39m*\u001b[39mbeta20 \u001b[39m+\u001b[39m df[\u001b[39m'\u001b[39m\u001b[39mfreetime\u001b[39m\u001b[39m'\u001b[39m]\u001b[39m*\u001b[39mbeta21 \u001b[39m+\u001b[39m df[\u001b[39m\"\u001b[39m\u001b[39mgoout\u001b[39m\u001b[39m\"\u001b[39m]\u001b[39m*\u001b[39mbeta22 \u001b[39m+\u001b[39m df[\u001b[39m\"\u001b[39m\u001b[39mDalc\u001b[39m\u001b[39m\"\u001b[39m]\u001b[39m*\u001b[39mbeta23 \u001b[39m+\u001b[39m df[\u001b[39m\"\u001b[39m\u001b[39mWalc\u001b[39m\u001b[39m\"\u001b[39m]\u001b[39m*\u001b[39mbeta24 \u001b[39m+\u001b[39m df[\u001b[39m\"\u001b[39m\u001b[39mhealth\u001b[39m\u001b[39m\"\u001b[39m]\u001b[39m*\u001b[39mbeta25 \u001b[39m+\u001b[39m df[\u001b[39m\"\u001b[39m\u001b[39mabsences\u001b[39m\u001b[39m\"\u001b[39m]\u001b[39m*\u001b[39mbeta26 \u001b[39m+\u001b[39mdf[\u001b[39m\"\u001b[39m\u001b[39mG1\u001b[39m\u001b[39m\"\u001b[39m]\u001b[39m*\u001b[39mbeta27 \u001b[39m+\u001b[39m df[\u001b[39m\"\u001b[39m\u001b[39mG2\u001b[39m\u001b[39m\"\u001b[39m]\u001b[39m*\u001b[39mbeta28))\u001b[39m*\u001b[39m\u001b[39m*\u001b[39m\u001b[39m2\u001b[39m)\n",
      "File \u001b[0;32m/Library/Frameworks/Python.framework/Versions/3.10/lib/python3.10/site-packages/pandas/core/ops/common.py:70\u001b[0m, in \u001b[0;36m_unpack_zerodim_and_defer.<locals>.new_method\u001b[0;34m(self, other)\u001b[0m\n\u001b[1;32m     <a href='file:///Library/Frameworks/Python.framework/Versions/3.10/lib/python3.10/site-packages/pandas/core/ops/common.py?line=65'>66</a>\u001b[0m             \u001b[39mreturn\u001b[39;00m \u001b[39mNotImplemented\u001b[39m\n\u001b[1;32m     <a href='file:///Library/Frameworks/Python.framework/Versions/3.10/lib/python3.10/site-packages/pandas/core/ops/common.py?line=67'>68</a>\u001b[0m other \u001b[39m=\u001b[39m item_from_zerodim(other)\n\u001b[0;32m---> <a href='file:///Library/Frameworks/Python.framework/Versions/3.10/lib/python3.10/site-packages/pandas/core/ops/common.py?line=69'>70</a>\u001b[0m \u001b[39mreturn\u001b[39;00m method(\u001b[39mself\u001b[39;49m, other)\n",
      "File \u001b[0;32m/Library/Frameworks/Python.framework/Versions/3.10/lib/python3.10/site-packages/pandas/core/arraylike.py:100\u001b[0m, in \u001b[0;36mOpsMixin.__add__\u001b[0;34m(self, other)\u001b[0m\n\u001b[1;32m     <a href='file:///Library/Frameworks/Python.framework/Versions/3.10/lib/python3.10/site-packages/pandas/core/arraylike.py?line=97'>98</a>\u001b[0m \u001b[39m@unpack_zerodim_and_defer\u001b[39m(\u001b[39m\"\u001b[39m\u001b[39m__add__\u001b[39m\u001b[39m\"\u001b[39m)\n\u001b[1;32m     <a href='file:///Library/Frameworks/Python.framework/Versions/3.10/lib/python3.10/site-packages/pandas/core/arraylike.py?line=98'>99</a>\u001b[0m \u001b[39mdef\u001b[39;00m \u001b[39m__add__\u001b[39m(\u001b[39mself\u001b[39m, other):\n\u001b[0;32m--> <a href='file:///Library/Frameworks/Python.framework/Versions/3.10/lib/python3.10/site-packages/pandas/core/arraylike.py?line=99'>100</a>\u001b[0m     \u001b[39mreturn\u001b[39;00m \u001b[39mself\u001b[39;49m\u001b[39m.\u001b[39;49m_arith_method(other, operator\u001b[39m.\u001b[39;49madd)\n",
      "File \u001b[0;32m/Library/Frameworks/Python.framework/Versions/3.10/lib/python3.10/site-packages/pandas/core/series.py:5639\u001b[0m, in \u001b[0;36mSeries._arith_method\u001b[0;34m(self, other, op)\u001b[0m\n\u001b[1;32m   <a href='file:///Library/Frameworks/Python.framework/Versions/3.10/lib/python3.10/site-packages/pandas/core/series.py?line=5636'>5637</a>\u001b[0m \u001b[39mdef\u001b[39;00m \u001b[39m_arith_method\u001b[39m(\u001b[39mself\u001b[39m, other, op):\n\u001b[1;32m   <a href='file:///Library/Frameworks/Python.framework/Versions/3.10/lib/python3.10/site-packages/pandas/core/series.py?line=5637'>5638</a>\u001b[0m     \u001b[39mself\u001b[39m, other \u001b[39m=\u001b[39m ops\u001b[39m.\u001b[39malign_method_SERIES(\u001b[39mself\u001b[39m, other)\n\u001b[0;32m-> <a href='file:///Library/Frameworks/Python.framework/Versions/3.10/lib/python3.10/site-packages/pandas/core/series.py?line=5638'>5639</a>\u001b[0m     \u001b[39mreturn\u001b[39;00m base\u001b[39m.\u001b[39;49mIndexOpsMixin\u001b[39m.\u001b[39;49m_arith_method(\u001b[39mself\u001b[39;49m, other, op)\n",
      "File \u001b[0;32m/Library/Frameworks/Python.framework/Versions/3.10/lib/python3.10/site-packages/pandas/core/base.py:1295\u001b[0m, in \u001b[0;36mIndexOpsMixin._arith_method\u001b[0;34m(self, other, op)\u001b[0m\n\u001b[1;32m   <a href='file:///Library/Frameworks/Python.framework/Versions/3.10/lib/python3.10/site-packages/pandas/core/base.py?line=1291'>1292</a>\u001b[0m rvalues \u001b[39m=\u001b[39m ensure_wrapped_if_datetimelike(rvalues)\n\u001b[1;32m   <a href='file:///Library/Frameworks/Python.framework/Versions/3.10/lib/python3.10/site-packages/pandas/core/base.py?line=1293'>1294</a>\u001b[0m \u001b[39mwith\u001b[39;00m np\u001b[39m.\u001b[39merrstate(\u001b[39mall\u001b[39m\u001b[39m=\u001b[39m\u001b[39m\"\u001b[39m\u001b[39mignore\u001b[39m\u001b[39m\"\u001b[39m):\n\u001b[0;32m-> <a href='file:///Library/Frameworks/Python.framework/Versions/3.10/lib/python3.10/site-packages/pandas/core/base.py?line=1294'>1295</a>\u001b[0m     result \u001b[39m=\u001b[39m ops\u001b[39m.\u001b[39;49marithmetic_op(lvalues, rvalues, op)\n\u001b[1;32m   <a href='file:///Library/Frameworks/Python.framework/Versions/3.10/lib/python3.10/site-packages/pandas/core/base.py?line=1296'>1297</a>\u001b[0m \u001b[39mreturn\u001b[39;00m \u001b[39mself\u001b[39m\u001b[39m.\u001b[39m_construct_result(result, name\u001b[39m=\u001b[39mres_name)\n",
      "File \u001b[0;32m/Library/Frameworks/Python.framework/Versions/3.10/lib/python3.10/site-packages/pandas/core/ops/array_ops.py:222\u001b[0m, in \u001b[0;36marithmetic_op\u001b[0;34m(left, right, op)\u001b[0m\n\u001b[1;32m    <a href='file:///Library/Frameworks/Python.framework/Versions/3.10/lib/python3.10/site-packages/pandas/core/ops/array_ops.py?line=216'>217</a>\u001b[0m \u001b[39melse\u001b[39;00m:\n\u001b[1;32m    <a href='file:///Library/Frameworks/Python.framework/Versions/3.10/lib/python3.10/site-packages/pandas/core/ops/array_ops.py?line=217'>218</a>\u001b[0m     \u001b[39m# TODO we should handle EAs consistently and move this check before the if/else\u001b[39;00m\n\u001b[1;32m    <a href='file:///Library/Frameworks/Python.framework/Versions/3.10/lib/python3.10/site-packages/pandas/core/ops/array_ops.py?line=218'>219</a>\u001b[0m     \u001b[39m# (https://github.com/pandas-dev/pandas/issues/41165)\u001b[39;00m\n\u001b[1;32m    <a href='file:///Library/Frameworks/Python.framework/Versions/3.10/lib/python3.10/site-packages/pandas/core/ops/array_ops.py?line=219'>220</a>\u001b[0m     _bool_arith_check(op, left, right)\n\u001b[0;32m--> <a href='file:///Library/Frameworks/Python.framework/Versions/3.10/lib/python3.10/site-packages/pandas/core/ops/array_ops.py?line=221'>222</a>\u001b[0m     res_values \u001b[39m=\u001b[39m _na_arithmetic_op(left, right, op)\n\u001b[1;32m    <a href='file:///Library/Frameworks/Python.framework/Versions/3.10/lib/python3.10/site-packages/pandas/core/ops/array_ops.py?line=223'>224</a>\u001b[0m \u001b[39mreturn\u001b[39;00m res_values\n",
      "File \u001b[0;32m/Library/Frameworks/Python.framework/Versions/3.10/lib/python3.10/site-packages/pandas/core/ops/array_ops.py:163\u001b[0m, in \u001b[0;36m_na_arithmetic_op\u001b[0;34m(left, right, op, is_cmp)\u001b[0m\n\u001b[1;32m    <a href='file:///Library/Frameworks/Python.framework/Versions/3.10/lib/python3.10/site-packages/pandas/core/ops/array_ops.py?line=159'>160</a>\u001b[0m     func \u001b[39m=\u001b[39m partial(expressions\u001b[39m.\u001b[39mevaluate, op)\n\u001b[1;32m    <a href='file:///Library/Frameworks/Python.framework/Versions/3.10/lib/python3.10/site-packages/pandas/core/ops/array_ops.py?line=161'>162</a>\u001b[0m \u001b[39mtry\u001b[39;00m:\n\u001b[0;32m--> <a href='file:///Library/Frameworks/Python.framework/Versions/3.10/lib/python3.10/site-packages/pandas/core/ops/array_ops.py?line=162'>163</a>\u001b[0m     result \u001b[39m=\u001b[39m func(left, right)\n\u001b[1;32m    <a href='file:///Library/Frameworks/Python.framework/Versions/3.10/lib/python3.10/site-packages/pandas/core/ops/array_ops.py?line=163'>164</a>\u001b[0m \u001b[39mexcept\u001b[39;00m \u001b[39mTypeError\u001b[39;00m:\n\u001b[1;32m    <a href='file:///Library/Frameworks/Python.framework/Versions/3.10/lib/python3.10/site-packages/pandas/core/ops/array_ops.py?line=164'>165</a>\u001b[0m     \u001b[39mif\u001b[39;00m \u001b[39mnot\u001b[39;00m is_cmp \u001b[39mand\u001b[39;00m (is_object_dtype(left\u001b[39m.\u001b[39mdtype) \u001b[39mor\u001b[39;00m is_object_dtype(right)):\n\u001b[1;32m    <a href='file:///Library/Frameworks/Python.framework/Versions/3.10/lib/python3.10/site-packages/pandas/core/ops/array_ops.py?line=165'>166</a>\u001b[0m         \u001b[39m# For object dtype, fallback to a masked operation (only operating\u001b[39;00m\n\u001b[1;32m    <a href='file:///Library/Frameworks/Python.framework/Versions/3.10/lib/python3.10/site-packages/pandas/core/ops/array_ops.py?line=166'>167</a>\u001b[0m         \u001b[39m#  on the non-missing values)\u001b[39;00m\n\u001b[1;32m    <a href='file:///Library/Frameworks/Python.framework/Versions/3.10/lib/python3.10/site-packages/pandas/core/ops/array_ops.py?line=167'>168</a>\u001b[0m         \u001b[39m# Don't do this for comparisons, as that will handle complex numbers\u001b[39;00m\n\u001b[1;32m    <a href='file:///Library/Frameworks/Python.framework/Versions/3.10/lib/python3.10/site-packages/pandas/core/ops/array_ops.py?line=168'>169</a>\u001b[0m         \u001b[39m#  incorrectly, see GH#32047\u001b[39;00m\n",
      "File \u001b[0;32m/Library/Frameworks/Python.framework/Versions/3.10/lib/python3.10/site-packages/pandas/core/computation/expressions.py:239\u001b[0m, in \u001b[0;36mevaluate\u001b[0;34m(op, a, b, use_numexpr)\u001b[0m\n\u001b[1;32m    <a href='file:///Library/Frameworks/Python.framework/Versions/3.10/lib/python3.10/site-packages/pandas/core/computation/expressions.py?line=235'>236</a>\u001b[0m \u001b[39mif\u001b[39;00m op_str \u001b[39mis\u001b[39;00m \u001b[39mnot\u001b[39;00m \u001b[39mNone\u001b[39;00m:\n\u001b[1;32m    <a href='file:///Library/Frameworks/Python.framework/Versions/3.10/lib/python3.10/site-packages/pandas/core/computation/expressions.py?line=236'>237</a>\u001b[0m     \u001b[39mif\u001b[39;00m use_numexpr:\n\u001b[1;32m    <a href='file:///Library/Frameworks/Python.framework/Versions/3.10/lib/python3.10/site-packages/pandas/core/computation/expressions.py?line=237'>238</a>\u001b[0m         \u001b[39m# error: \"None\" not callable\u001b[39;00m\n\u001b[0;32m--> <a href='file:///Library/Frameworks/Python.framework/Versions/3.10/lib/python3.10/site-packages/pandas/core/computation/expressions.py?line=238'>239</a>\u001b[0m         \u001b[39mreturn\u001b[39;00m _evaluate(op, op_str, a, b)  \u001b[39m# type: ignore[misc]\u001b[39;00m\n\u001b[1;32m    <a href='file:///Library/Frameworks/Python.framework/Versions/3.10/lib/python3.10/site-packages/pandas/core/computation/expressions.py?line=239'>240</a>\u001b[0m \u001b[39mreturn\u001b[39;00m _evaluate_standard(op, op_str, a, b)\n",
      "File \u001b[0;32m/Library/Frameworks/Python.framework/Versions/3.10/lib/python3.10/site-packages/pandas/core/computation/expressions.py:69\u001b[0m, in \u001b[0;36m_evaluate_standard\u001b[0;34m(op, op_str, a, b)\u001b[0m\n\u001b[1;32m     <a href='file:///Library/Frameworks/Python.framework/Versions/3.10/lib/python3.10/site-packages/pandas/core/computation/expressions.py?line=66'>67</a>\u001b[0m \u001b[39mif\u001b[39;00m _TEST_MODE:\n\u001b[1;32m     <a href='file:///Library/Frameworks/Python.framework/Versions/3.10/lib/python3.10/site-packages/pandas/core/computation/expressions.py?line=67'>68</a>\u001b[0m     _store_test_result(\u001b[39mFalse\u001b[39;00m)\n\u001b[0;32m---> <a href='file:///Library/Frameworks/Python.framework/Versions/3.10/lib/python3.10/site-packages/pandas/core/computation/expressions.py?line=68'>69</a>\u001b[0m \u001b[39mreturn\u001b[39;00m op(a, b)\n",
      "\u001b[0;31mKeyboardInterrupt\u001b[0m: "
     ]
    }
   ],
   "source": [
    "def get_sq_errors2(betas, df):\n",
    "    beta0, beta1, beta2, beta3, beta4, beta5, beta6, beta7, beta8,  beta9, beta10, beta11, beta12, beta13, beta14, beta15, beta16, beta17, beta18, beta19, beta20, beta21, beta22, beta23, beta24, beta25, beta26, beta27, beta28 = betas\n",
    "    return sum((df[\"G3\"] - (beta0 + df[\"school\"]*beta1  + df[\"sex\"]*beta2 + df[\"age\"]*beta3 + df[\"address\"]*beta4 + df[\"famsize\"]*beta5+ df[\"Pstatus\"]*beta6 + df[\"Medu\"]*beta7 + df[\"Fedu\"]*beta8 + df[\"traveltime\"]*beta9 + df[\"studytime\"]*beta10 +df[\"failures\"]*beta11 + df[\"schoolsup\"]*beta12 + df[\"famsup\"]*beta13 + df[\"paid\"]*beta14 + df[\"activities\"]*beta15 + df[\"nursery\"]*beta16 + df[\"higher\"]*beta17 + df['internet']*beta18 +df[\"romantic\"]*beta19 + df['famrel']*beta20 + df['freetime']*beta21 + df[\"goout\"]*beta22 + df[\"Dalc\"]*beta23 + df[\"Walc\"]*beta24 + df[\"health\"]*beta25 + df[\"absences\"]*beta26 +df[\"G1\"]*beta27 + df[\"G2\"]*beta28))**2)\n",
    "         \n",
    "initial_guess = np.ones(29)\n",
    "\n",
    "res = minimize(get_sq_errors2, args = train, method = \"BFGS\", x0 = initial_guess)\n",
    "\n",
    "fitted_params_g1g2 = res.x\n",
    "fitted_params_g1g2"
   ]
  },
  {
   "cell_type": "markdown",
   "metadata": {},
   "source": [
    "## Variance Squared Errors"
   ]
  },
  {
   "cell_type": "code",
   "execution_count": null,
   "metadata": {},
   "outputs": [
    {
     "data": {
      "text/plain": [
       "281.52665353594836"
      ]
     },
     "execution_count": 259,
     "metadata": {},
     "output_type": "execute_result"
    }
   ],
   "source": [
    "beta0, beta1, beta2, beta3, beta4, beta5, beta6, beta7, beta8,  beta9, beta10, beta11, beta12, beta13, beta14, beta15, beta16, beta17, beta18, beta19, beta20, beta21, beta22, beta23, beta24, beta25, beta26= fitted_params\n",
    "\n",
    "test['y_hat'] = beta0 + test[\"school\"]*beta1  + test[\"sex\"]*beta2 + test[\"age\"]*beta3 + test[\"address\"]*beta4 + test[\"famsize\"]*beta5 + test[\"Pstatus\"]*beta6 + test[\"Medu\"]*beta7 + test[\"Fedu\"]*beta8 + test[\"traveltime\"]*beta9 + test[\"studytime\"]*beta10 +test[\"failures\"]*beta11 + test[\"schoolsup\"]*beta12 + test[\"famsup\"]*beta13 + test[\"paid\"]*beta14 + test[\"activities\"]*beta15 + test[\"nursery\"]*beta16 + test[\"higher\"]*beta17 + test['internet']*beta18 +test[\"romantic\"]*beta19 + test['famrel']*beta20 + test['freetime']*beta21 + test[\"goout\"]*beta22 + test[\"Dalc\"]*beta23 + test[\"Walc\"]*beta24 + test[\"health\"]*beta25 +test[\"absences\"]*beta26\n",
    "\n",
    "test[\"diff\"] = test['G3'] - test['y_hat']\n",
    "\n",
    "stats.variance((test[\"diff\"])**2)"
   ]
  },
  {
   "cell_type": "code",
   "execution_count": null,
   "metadata": {},
   "outputs": [
    {
     "data": {
      "text/plain": [
       "67.06103070627269"
      ]
     },
     "execution_count": 260,
     "metadata": {},
     "output_type": "execute_result"
    }
   ],
   "source": [
    "beta0, beta1, beta2, beta3, beta4, beta5, beta6, beta7, beta8,  beta9, beta10, beta11, beta12, beta13, beta14, beta15, beta16, beta17, beta18, beta19, beta20, beta21, beta22, beta23, beta24, beta25, beta26, beta27, beta28 = fitted_params_g1g2\n",
    "test['y_hat_g1g2'] = beta0 + test[\"school\"]*beta1 + test[\"sex\"]*beta2 + test[\"age\"]*beta3 + test[\"address\"]*beta4 + test[\"famsize\"]*beta5 + test[\"Pstatus\"]*beta6 + test[\"Medu\"]*beta7 + test[\"Fedu\"]*beta8 + test[\"traveltime\"]*beta9 + test[\"studytime\"]*beta10 +test[\"failures\"]*beta11 + test[\"schoolsup\"]*beta12 + test[\"famsup\"]*beta13 + test[\"paid\"]*beta14 + test[\"activities\"]*beta15 + test[\"nursery\"]*beta16 + test[\"higher\"]*beta17 + test['internet']*beta18 +test[\"romantic\"]*beta19 + test['famrel']*beta20 + test['freetime']*beta21 + test[\"goout\"]*beta22 + test[\"Dalc\"]*beta23 + test[\"Walc\"]*beta24 + test[\"health\"]*beta25 +test[\"absences\"]*beta26 + test[\"G1\"]*beta27 + test[\"G2\"]*beta28\n",
    "\n",
    "test[\"diff_g1g2\"] = test['G3'] - test['y_hat_g1g2']\n",
    "\n",
    "stats.variance(test[\"diff_g1g2\"]**2)"
   ]
  },
  {
   "cell_type": "markdown",
   "metadata": {},
   "source": [
    "The variance of the squared differences seems to be much higher when I don't include G1 and G3."
   ]
  },
  {
   "cell_type": "markdown",
   "metadata": {},
   "source": [
    "# 5. Minimize absolute error"
   ]
  },
  {
   "cell_type": "code",
   "execution_count": null,
   "metadata": {},
   "outputs": [
    {
     "data": {
      "text/plain": [
       "array([ 5.02614931e+00, -9.11841869e-01, -3.05509462e-01,  3.83092970e-01,\n",
       "       -3.44537015e-03, -1.73730770e-01, -1.42234061e-01,  2.58296080e-01,\n",
       "        1.05034315e-01, -2.15598901e-01,  4.39984826e-01, -1.62427076e+00,\n",
       "       -1.32315113e+00,  6.29522642e-03, -8.26001765e-01,  3.83617601e-01,\n",
       "        1.55485977e-01,  1.54981380e+00,  3.43872298e-01, -4.40255851e-01,\n",
       "        1.62963053e-01, -1.34537187e-01, -1.62300945e-01, -3.57108229e-01,\n",
       "        1.23351661e-01, -1.89313242e-01, -7.79033841e-02])"
      ]
     },
     "execution_count": 261,
     "metadata": {},
     "output_type": "execute_result"
    }
   ],
   "source": [
    "def get_sq_errors_abs(betas, df):\n",
    "    beta0, beta1, beta2, beta3, beta4, beta5, beta6, beta7, beta8,  beta9, beta10, beta11, beta12, beta13, beta14, beta15, beta16, beta17, beta18, beta19, beta20, beta21, beta22, beta23, beta24, beta25, beta26= betas\n",
    "    return sum(abs(df[\"G3\"] - (beta0 + df[\"school\"]*beta1  + df[\"sex\"]*beta2 + df[\"age\"]*beta3 + df[\"address\"]*beta4 + df[\"famsize\"]*beta5 + df[\"Pstatus\"]*beta6 + df[\"Medu\"]*beta7 + df[\"Fedu\"]*beta8 + df[\"traveltime\"]*beta9 + df[\"studytime\"]*beta10 +df[\"failures\"]*beta11 + df[\"schoolsup\"]*beta12 + df[\"famsup\"]*beta13 + df[\"paid\"]*beta14 + df[\"activities\"]*beta15 + df[\"nursery\"]*beta16 + df[\"higher\"]*beta17 + df['internet']*beta18 +df[\"romantic\"]*beta19 + df['famrel']*beta20 + df['freetime']*beta21 + df[\"goout\"]*beta22 + df[\"Dalc\"]*beta23 + df[\"Walc\"]*beta24 + df[\"health\"]*beta25 +df[\"absences\"]*beta26)))\n",
    "         \n",
    "initial_guess = np.ones(27)\n",
    "\n",
    "res = minimize(get_sq_errors_abs, args = train, method = \"BFGS\", x0 = initial_guess)\n",
    "\n",
    "fitted_params_abs = res.x\n",
    "fitted_params_abs"
   ]
  },
  {
   "cell_type": "code",
   "execution_count": null,
   "metadata": {},
   "outputs": [
    {
     "data": {
      "text/plain": [
       "array([-0.90875257, -0.08728718,  0.13313128,  0.10137817,  0.02632461,\n",
       "        0.01022248,  0.01092471, -0.01879645,  0.07591775,  0.09865866,\n",
       "        0.06946222, -0.13906392, -0.1636067 , -0.04562869, -0.15676126,\n",
       "       -0.06422707, -0.06613501,  0.22523113,  0.07824654,  0.06436421,\n",
       "       -0.05777647, -0.01648876, -0.01982468, -0.11987556, -0.00618645,\n",
       "       -0.02789559,  0.00782146,  0.14184482,  0.82239787])"
      ]
     },
     "execution_count": 262,
     "metadata": {},
     "output_type": "execute_result"
    }
   ],
   "source": [
    "def get_sq_errors_abs2(betas, df):\n",
    "    beta0, beta1, beta2, beta3, beta4, beta5, beta6, beta7, beta8,  beta9, beta10, beta11, beta12, beta13, beta14, beta15, beta16, beta17, beta18, beta19, beta20, beta21, beta22, beta23, beta24, beta25, beta26, beta27, beta28 = betas\n",
    "    return sum(abs(df[\"G3\"] - (beta0 + df[\"school\"]*beta1  + df[\"sex\"]*beta2 + df[\"age\"]*beta3 + df[\"address\"]*beta4 + df[\"famsize\"]*beta5+ df[\"Pstatus\"]*beta6 + df[\"Medu\"]*beta7 + df[\"Fedu\"]*beta8 + df[\"traveltime\"]*beta9 + df[\"studytime\"]*beta10 +df[\"failures\"]*beta11 + df[\"schoolsup\"]*beta12 + df[\"famsup\"]*beta13 + df[\"paid\"]*beta14 + df[\"activities\"]*beta15 + df[\"nursery\"]*beta16 + df[\"higher\"]*beta17 + df['internet']*beta18 +df[\"romantic\"]*beta19 + df['famrel']*beta20 + df['freetime']*beta21 + df[\"goout\"]*beta22 + df[\"Dalc\"]*beta23 + df[\"Walc\"]*beta24 + df[\"health\"]*beta25 + df[\"absences\"]*beta26 +df[\"G1\"]*beta27 + df[\"G2\"]*beta28)))\n",
    "    \n",
    "initial_guess = np.ones(29)\n",
    "\n",
    "res = minimize(get_sq_errors_abs2, args = train, method = \"BFGS\", x0 = initial_guess)\n",
    "\n",
    "fitted_params_abs2 = res.x\n",
    "fitted_params_abs2"
   ]
  },
  {
   "cell_type": "markdown",
   "metadata": {},
   "source": [
    "## Variance absolute error"
   ]
  },
  {
   "cell_type": "code",
   "execution_count": null,
   "metadata": {},
   "outputs": [
    {
     "data": {
      "text/plain": [
       "341.64141963476254"
      ]
     },
     "execution_count": 263,
     "metadata": {},
     "output_type": "execute_result"
    }
   ],
   "source": [
    "beta0, beta1, beta2, beta3, beta4, beta5, beta6, beta7, beta8,  beta9, beta10, beta11, beta12, beta13, beta14, beta15, beta16, beta17, beta18, beta19, beta20, beta21, beta22, beta23, beta24, beta25, beta26= fitted_params_abs\n",
    "\n",
    "test['y_hat_abs'] = beta0 + test[\"school\"]*beta1  + test[\"sex\"]*beta2 + test[\"age\"]*beta3 + test[\"address\"]*beta4 + test[\"famsize\"]*beta5 + test[\"Pstatus\"]*beta6 + test[\"Medu\"]*beta7 + test[\"Fedu\"]*beta8 + test[\"traveltime\"]*beta9 + test[\"studytime\"]*beta10 +test[\"failures\"]*beta11 + test[\"schoolsup\"]*beta12 + test[\"famsup\"]*beta13 + test[\"paid\"]*beta14 + test[\"activities\"]*beta15 + test[\"nursery\"]*beta16 + test[\"higher\"]*beta17 + test['internet']*beta18 +test[\"romantic\"]*beta19 + test['famrel']*beta20 + test['freetime']*beta21 + test[\"goout\"]*beta22 + test[\"Dalc\"]*beta23 + test[\"Walc\"]*beta24 + test[\"health\"]*beta25 +test[\"absences\"]*beta26\n",
    "\n",
    "test[\"diff\"] = test['G3'] - test['y_hat_abs']\n",
    "\n",
    "stats.variance((test[\"diff\"])**2)"
   ]
  },
  {
   "cell_type": "code",
   "execution_count": null,
   "metadata": {},
   "outputs": [
    {
     "data": {
      "text/plain": [
       "60.81083016118869"
      ]
     },
     "execution_count": 264,
     "metadata": {},
     "output_type": "execute_result"
    }
   ],
   "source": [
    "beta0, beta1, beta2, beta3, beta4, beta5, beta6, beta7, beta8,  beta9, beta10, beta11, beta12, beta13, beta14, beta15, beta16, beta17, beta18, beta19, beta20, beta21, beta22, beta23, beta24, beta25, beta26, beta27, beta28 = fitted_params_abs2\n",
    "test['y_hat_absg1g2'] = beta0 + test[\"school\"]*beta1 + test[\"sex\"]*beta2 + test[\"age\"]*beta3 + test[\"address\"]*beta4 + test[\"famsize\"]*beta5 + test[\"Pstatus\"]*beta6 + test[\"Medu\"]*beta7 + test[\"Fedu\"]*beta8 + test[\"traveltime\"]*beta9 + test[\"studytime\"]*beta10 +test[\"failures\"]*beta11 + test[\"schoolsup\"]*beta12 + test[\"famsup\"]*beta13 + test[\"paid\"]*beta14 + test[\"activities\"]*beta15 + test[\"nursery\"]*beta16 + test[\"higher\"]*beta17 + test['internet']*beta18 +test[\"romantic\"]*beta19 + test['famrel']*beta20 + test['freetime']*beta21 + test[\"goout\"]*beta22 + test[\"Dalc\"]*beta23 + test[\"Walc\"]*beta24 + test[\"health\"]*beta25 +test[\"absences\"]*beta26 + test[\"G1\"]*beta27 + test[\"G2\"]*beta28\n",
    "\n",
    "test[\"diff_absg1g2\"] = test['G3'] - test['y_hat_absg1g2']\n",
    "\n",
    "stats.variance(test[\"diff_absg1g2\"]**2)"
   ]
  },
  {
   "cell_type": "markdown",
   "metadata": {},
   "source": [
    "The variance of the squared differences follow the same pattern as above, there is more variance when I omit G2, and G1 from the estimation."
   ]
  },
  {
   "cell_type": "markdown",
   "metadata": {},
   "source": [
    "# 6)  Estimate the out-of-sample squared-error variance of each estimator by randomly sampling the train-test split.\n",
    "\n",
    "I will estimate the squared-error variance in the test set several times for both the squared errors method and the absolute value method. \n",
    "I will then show the mean of both methods, and plot the distributions of the variances"
   ]
  },
  {
   "cell_type": "code",
   "execution_count": null,
   "metadata": {},
   "outputs": [
    {
     "data": {
      "text/plain": [
       "Text(0.5, 1.0, 'Distribution of the variances using the min squared errors method\\nMean: 246')"
      ]
     },
     "execution_count": 265,
     "metadata": {},
     "output_type": "execute_result"
    },
    {
     "data": {
      "image/png": "[encoded data removed]",
      "text/plain": [
       "<Figure size 432x288 with 1 Axes>"
      ]
     },
     "metadata": {
      "needs_background": "light"
     },
     "output_type": "display_data"
    }
   ],
   "source": [
    "trials = 20\n",
    "variances_sq = []\n",
    "variances_abs = []\n",
    "\n",
    "for _ in range(trials):\n",
    "    diff = 0\n",
    "    diff_abs = 0\n",
    "    y_hat = 0\n",
    "    y_hat_abs = 0 \n",
    "    \n",
    "    #Create a random split\n",
    "    \n",
    "    train, test = train_test_split(df, test_size=0.2)    \n",
    "    initial_guess = np.ones(27)\n",
    "\n",
    "    # Use squared errors\n",
    "    initial_guess = np.ones(27)\n",
    "    results_sq_errors = minimize(get_sq_errors, args = train, method = \"BFGS\", x0 = initial_guess)\n",
    "    fitted_params = results_sq_errors.x\n",
    "    #get the values of the betas\n",
    "    beta0, beta1, beta2, beta3, beta4, beta5, beta6, beta7, beta8,  beta9, beta10, beta11, beta12, beta13, beta14, beta15, beta16, beta17, beta18, beta19, beta20, beta21, beta22, beta23, beta24, beta25, beta26= fitted_params\n",
    "    # get the value of the prediction for G3\n",
    "    y_hat = beta0 + test[\"school\"]*beta1  + test[\"sex\"]*beta2 + test[\"age\"]*beta3 + test[\"address\"]*beta4 + test[\"famsize\"]*beta5 + test[\"Pstatus\"]*beta6 + test[\"Medu\"]*beta7 + test[\"Fedu\"]*beta8 + test[\"traveltime\"]*beta9 + test[\"studytime\"]*beta10 +test[\"failures\"]*beta11 + test[\"schoolsup\"]*beta12 + test[\"famsup\"]*beta13 + test[\"paid\"]*beta14 + test[\"activities\"]*beta15 + test[\"nursery\"]*beta16 + test[\"higher\"]*beta17 + test['internet']*beta18 +test[\"romantic\"]*beta19 + test['famrel']*beta20 + test['freetime']*beta21 + test[\"goout\"]*beta22 + test[\"Dalc\"]*beta23 + test[\"Walc\"]*beta24 + test[\"health\"]*beta25 +test[\"absences\"]*beta26\n",
    "    # Get the difference and it's squared and get the variance of this for this split\n",
    "    diff = test['G3'] - y_hat\n",
    "    variances_sq.append(stats.variance(diff**2))\n",
    "\n",
    "    # Use absolute value of the error\n",
    "    results_abs = minimize(get_sq_errors_abs, args = train, method = \"BFGS\", x0 = initial_guess)\n",
    "    fitted_params = results_abs.x\n",
    "    #get the values of the betas\n",
    "    beta0, beta1, beta2, beta3, beta4, beta5, beta6, beta7, beta8,  beta9, beta10, beta11, beta12, beta13, beta14, beta15, beta16, beta17, beta18, beta19, beta20, beta21, beta22, beta23, beta24, beta25, beta26= fitted_params\n",
    "    # get the value of the prediction for G3\n",
    "    y_hat_abs= beta0 + test[\"school\"]*beta1  + test[\"sex\"]*beta2 + test[\"age\"]*beta3 + test[\"address\"]*beta4 + test[\"famsize\"]*beta5 + test[\"Pstatus\"]*beta6 + test[\"Medu\"]*beta7 + test[\"Fedu\"]*beta8 + test[\"traveltime\"]*beta9 + test[\"studytime\"]*beta10 +test[\"failures\"]*beta11 + test[\"schoolsup\"]*beta12 + test[\"famsup\"]*beta13 + test[\"paid\"]*beta14 + test[\"activities\"]*beta15 + test[\"nursery\"]*beta16 + test[\"higher\"]*beta17 + test['internet']*beta18 +test[\"romantic\"]*beta19 + test['famrel']*beta20 + test['freetime']*beta21 + test[\"goout\"]*beta22 + test[\"Dalc\"]*beta23 + test[\"Walc\"]*beta24 + test[\"health\"]*beta25 +test[\"absences\"]*beta26\n",
    "    # Get the difference and it's squared and get the variance of this for this split\n",
    "    diff_abs = test['G3'] - y_hat_abs\n",
    "\n",
    "    variances_abs.append(stats.variance(diff_abs**2))\n",
    "\n",
    "\n",
    "plt.hist(variances_sq)\n",
    "plt.title(f\"Distribution of the variances using the min squared errors method\\nMean: {round(np.mean(variances_sq))}\")"
   ]
  },
  {
   "cell_type": "code",
   "execution_count": null,
   "metadata": {},
   "outputs": [
    {
     "data": {
      "text/plain": [
       "Text(0.5, 1.0, 'Distribution of the variances using the min absolute difference method\\nMean: 273')"
      ]
     },
     "execution_count": 266,
     "metadata": {},
     "output_type": "execute_result"
    },
    {
     "data": {
      "image/png": "[encoded data removed]",
      "text/plain": [
       "<Figure size 432x288 with 1 Axes>"
      ]
     },
     "metadata": {
      "needs_background": "light"
     },
     "output_type": "display_data"
    }
   ],
   "source": [
    "plt.hist(variances_abs)\n",
    "plt.title(f\"Distribution of the variances using the min absolute difference method\\nMean: {round(np.mean(variances_abs))}\")"
   ]
  },
  {
   "cell_type": "markdown",
   "metadata": {},
   "source": [
    "This shows that the variance is slightly lower using the squared error method, which maybe part of the reason why we use it instead of absolute errors."
   ]
  }
 ],
 "metadata": {
  "interpreter": {
   "hash": "7e1998ff7f8aa20ada591c520b972326324e5ea05489af9e422744c7c09f6dad"
  },
  "kernelspec": {
   "display_name": "Python 3.10.0 64-bit",
   "language": "python",
   "name": "python3"
  },
  "language_info": {
   "codemirror_mode": {
    "name": "ipython",
    "version": 3
   },
   "file_extension": ".py",
   "mimetype": "text/x-python",
   "name": "python",
   "nbconvert_exporter": "python",
   "pygments_lexer": "ipython3",
   "version": "3.10.0"
  },
  "orig_nbformat": 4
 },
 "nbformat": 4,
 "nbformat_minor": 2
}
