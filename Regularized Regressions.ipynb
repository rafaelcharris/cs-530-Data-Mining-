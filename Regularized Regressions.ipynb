{
 "cells": [
  {
   "cell_type": "markdown",
   "metadata": {},
   "source": [
    "# Regularized Regressions \n",
    "\n",
    "## 1. First generate NxK draws from the standard normal."
   ]
  },
  {
   "cell_type": "code",
   "execution_count": 20,
   "metadata": {},
   "outputs": [
    {
     "data": {
      "text/html": [
       "<div>\n",
       "<style scoped>\n",
       "    .dataframe tbody tr th:only-of-type {\n",
       "        vertical-align: middle;\n",
       "    }\n",
       "\n",
       "    .dataframe tbody tr th {\n",
       "        vertical-align: top;\n",
       "    }\n",
       "\n",
       "    .dataframe thead th {\n",
       "        text-align: right;\n",
       "    }\n",
       "</style>\n",
       "<table border=\"1\" class=\"dataframe\">\n",
       "  <thead>\n",
       "    <tr style=\"text-align: right;\">\n",
       "      <th></th>\n",
       "      <th>x0</th>\n",
       "      <th>x1</th>\n",
       "      <th>x2</th>\n",
       "      <th>x3</th>\n",
       "      <th>x4</th>\n",
       "      <th>x5</th>\n",
       "    </tr>\n",
       "  </thead>\n",
       "  <tbody>\n",
       "    <tr>\n",
       "      <th>0</th>\n",
       "      <td>0.531539</td>\n",
       "      <td>-1.335961</td>\n",
       "      <td>0.436138</td>\n",
       "      <td>0.273986</td>\n",
       "      <td>-0.858808</td>\n",
       "      <td>-1.611341</td>\n",
       "    </tr>\n",
       "    <tr>\n",
       "      <th>1</th>\n",
       "      <td>-1.822084</td>\n",
       "      <td>1.899435</td>\n",
       "      <td>0.091579</td>\n",
       "      <td>-1.208160</td>\n",
       "      <td>-0.679749</td>\n",
       "      <td>0.217652</td>\n",
       "    </tr>\n",
       "    <tr>\n",
       "      <th>2</th>\n",
       "      <td>-0.572626</td>\n",
       "      <td>-0.992687</td>\n",
       "      <td>0.106245</td>\n",
       "      <td>-0.860136</td>\n",
       "      <td>-0.519436</td>\n",
       "      <td>-0.870806</td>\n",
       "    </tr>\n",
       "    <tr>\n",
       "      <th>3</th>\n",
       "      <td>1.175917</td>\n",
       "      <td>-0.189670</td>\n",
       "      <td>-0.135167</td>\n",
       "      <td>0.454112</td>\n",
       "      <td>-0.499868</td>\n",
       "      <td>-0.504661</td>\n",
       "    </tr>\n",
       "    <tr>\n",
       "      <th>4</th>\n",
       "      <td>-0.573204</td>\n",
       "      <td>1.219219</td>\n",
       "      <td>-0.348885</td>\n",
       "      <td>0.366103</td>\n",
       "      <td>-0.105462</td>\n",
       "      <td>-0.664914</td>\n",
       "    </tr>\n",
       "  </tbody>\n",
       "</table>\n",
       "</div>"
      ],
      "text/plain": [
       "         x0        x1        x2        x3        x4        x5\n",
       "0  0.531539 -1.335961  0.436138  0.273986 -0.858808 -1.611341\n",
       "1 -1.822084  1.899435  0.091579 -1.208160 -0.679749  0.217652\n",
       "2 -0.572626 -0.992687  0.106245 -0.860136 -0.519436 -0.870806\n",
       "3  1.175917 -0.189670 -0.135167  0.454112 -0.499868 -0.504661\n",
       "4 -0.573204  1.219219 -0.348885  0.366103 -0.105462 -0.664914"
      ]
     },
     "execution_count": 20,
     "metadata": {},
     "output_type": "execute_result"
    }
   ],
   "source": [
    "import numpy as np\n",
    "import pandas as pd\n",
    "from sklearn.model_selection import train_test_split\n",
    "from sklearn.linear_model import RidgeCV\n",
    "from sklearn import linear_model\n",
    "from sklearn.linear_model import LinearRegression\n",
    "from sklearn.model_selection import cross_val_score\n",
    "import matplotlib.pyplot as plt\n",
    "import seaborn as sns\n",
    "from sklearn.linear_model import ElasticNetCV\n",
    "\n",
    "n = 50\n",
    "\n",
    "x0 = np.random.normal(size = n) \n",
    "x1 = np.random.normal(size = n) \n",
    "x2 = np.random.normal(size = n) \n",
    "x3 = np.random.normal(size = n) \n",
    "x4 = np.random.normal(size = n) \n",
    "x5 = np.random.normal(size = n)\n",
    "\n",
    "df = pd.DataFrame({\"x0\":x0, \"x1\":x1, \"x2\":x2,\"x3\":x3,\"x4\":x4,\"x5\":x5})\n",
    "df.head()"
   ]
  },
  {
   "cell_type": "markdown",
   "metadata": {},
   "source": [
    "## 2. Generate your outcome by making up a function, like $y = 0.8*x_3 - 0.02*x_8 + ... + \\epsilon$.  You can vary how many predictors are in there, but 4 or 5 is fine.  Epsilon is some random noise (the larger the standard deviation of the normal noise, the more data you'll need to get good estimates).\n",
    "\n",
    "I'm going to create the outcome variable using the following linear model:\n",
    "\n",
    "$$y = 0.3*x_0 -0.08*x_1 + 0.1*x_2 + 0.5*x_3 - 0.84*x_4 + 0.07*x_5 + \\epsilon$$\n",
    "Where\n",
    "$$\\epsilon \\sim Normal(0, 2)$$"
   ]
  },
  {
   "cell_type": "code",
   "execution_count": 21,
   "metadata": {},
   "outputs": [],
   "source": [
    "df[\"y\"] = 0.3*df[\"x0\"]  -0.08*df[\"x1\"] + 0.1*df[\"x2\"] + 0.5*df[\"x3\"]  -0.84*df[\"x4\"] + 0.07*df[\"x5\"] + pd.Series(np.random.normal(scale = 2, size = n))"
   ]
  },
  {
   "cell_type": "markdown",
   "metadata": {},
   "source": [
    "## 3. Compare the out-of-sample performance of LASSO, Ridge, OLS, and Elastic Net, using k-fold cross validation"
   ]
  },
  {
   "cell_type": "markdown",
   "metadata": {},
   "source": [
    "I used 5-fold cross-validation to evaluate the performance of all the models. This means that, in the training data, I create 5 fold of data. I train the model with 4 folds, and try to predict the values in the fourht fold of data. Each time I predict the values of the excluded fold, I compute the permormance of the model by $R^2$ that is by \n",
    "\n",
    "$$R^{2} = 1 - \\frac{\\sum_{i = 1}^{800}(y_{i} - \\hat{y_{i}})^2}{\\sum_{i = 1}^{800} (y_{i} - \\bar{y})^{2}}$$\n",
    "\n"
   ]
  },
  {
   "cell_type": "markdown",
   "metadata": {},
   "source": [
    "where $y_{i}$ is the response variable at row $i$, $\\hat{y}$ is the average value of the response variable in the whole trained data, and \n",
    "\n",
    " I later report the mean and standard deviation of the five performance scores. The better model is the one with the highest mean and sd.\n"
   ]
  },
  {
   "cell_type": "code",
   "execution_count": 22,
   "metadata": {},
   "outputs": [],
   "source": [
    "X = df.drop(['y'], axis = 1)\n",
    "Y = df['y']"
   ]
  },
  {
   "cell_type": "markdown",
   "metadata": {},
   "source": [
    "### 3.1 LASSO"
   ]
  },
  {
   "cell_type": "code",
   "execution_count": 23,
   "metadata": {},
   "outputs": [
    {
     "name": "stdout",
     "output_type": "stream",
     "text": [
      "k-fold cross validation score is : 0.409 with sd: 0.0\n"
     ]
    }
   ],
   "source": [
    "lasso = linear_model.LassoCV(max_iter = 6000)\n",
    "lasso.fit(X, Y)\n",
    "lasso_scores = lasso.score(X,Y)\n",
    "lasso_scores\n",
    "\n",
    "print(f'k-fold cross validation score is : {round(np.mean(lasso_scores), 3)} with sd: {round(np.std(lasso_scores), 3)}')"
   ]
  },
  {
   "cell_type": "markdown",
   "metadata": {},
   "source": [
    "The score here is $r^2$"
   ]
  },
  {
   "cell_type": "markdown",
   "metadata": {},
   "source": [
    "### 3.2 Ridge regression"
   ]
  },
  {
   "cell_type": "code",
   "execution_count": 24,
   "metadata": {},
   "outputs": [
    {
     "name": "stdout",
     "output_type": "stream",
     "text": [
      "k-fold cross validation score is : 0.416 with sd: 0.0\n"
     ]
    }
   ],
   "source": [
    "ridge = RidgeCV()\n",
    "ridge.fit(X,Y)\n",
    "ridge_scores = ridge.score(X,Y)\n",
    "ridge_scores\n",
    "print(f'k-fold cross validation score is : {round(np.mean(ridge_scores), 3)} with sd: {round(np.std(ridge_scores), 3)}')"
   ]
  },
  {
   "cell_type": "markdown",
   "metadata": {},
   "source": [
    "### 3.3 OLS"
   ]
  },
  {
   "cell_type": "code",
   "execution_count": 25,
   "metadata": {},
   "outputs": [
    {
     "name": "stdout",
     "output_type": "stream",
     "text": [
      "5-fold cross validation score is : -0.117 with sd: 0.498\n"
     ]
    }
   ],
   "source": [
    "ols = LinearRegression().fit(X, Y)\n",
    "\n",
    "ols_pred = ols.predict(X)\n",
    "\n",
    "## 5 fold cross validation ( the default method)\n",
    "ols_scores = cross_val_score(ols, X,Y)\n",
    "ols_scores\n",
    "print(f'5-fold cross validation score is : {round(np.mean(ols_scores), 3)} with sd: {round(np.std(ols_scores), 3)}')"
   ]
  },
  {
   "cell_type": "markdown",
   "metadata": {},
   "source": [
    "The score here is $r^2$, explained variance is very similar, but is not the same value."
   ]
  },
  {
   "cell_type": "markdown",
   "metadata": {},
   "source": []
  },
  {
   "cell_type": "markdown",
   "metadata": {},
   "source": [
    "### 3.4 Elastic Net"
   ]
  },
  {
   "cell_type": "code",
   "execution_count": 26,
   "metadata": {},
   "outputs": [
    {
     "name": "stdout",
     "output_type": "stream",
     "text": [
      "k-fold cross validation score is : 0.403 with sd: 0.0\n"
     ]
    }
   ],
   "source": [
    "en = ElasticNetCV()\n",
    "en.fit(X, Y)\n",
    "en_pred = en.predict(X)\n",
    "\n",
    "en_scores = en.score(X,Y)\n",
    "en_scores\n",
    "print(f'k-fold cross validation score is : {round(np.mean(en_scores), 3)} with sd: {round(np.std(en_scores), 3)}')\n"
   ]
  },
  {
   "cell_type": "markdown",
   "metadata": {},
   "source": [
    "According to the r^2 measure of performance, the model that explains the most out-of-sample variance is the lasso, and ols models. Both with $r^2 = 0.24$ and the same standard deviation. Next is the ridge model with $r^2 = 0.22$"
   ]
  },
  {
   "cell_type": "markdown",
   "metadata": {},
   "source": [
    "The predictions of the OLS, and ridge are almost identical. \n",
    "the predictions"
   ]
  },
  {
   "cell_type": "markdown",
   "metadata": {},
   "source": [
    "# 4. Run multiple simulations (both at testing and training) to get a handle of the uncertainty and level of noise you're encountering.  Try varying N, K, the number of folds, etc.  Be sure to do some with N very small, (maybe as little as 2x or 3x K.  Some environments like genetics have K > N!)"
   ]
  },
  {
   "cell_type": "markdown",
   "metadata": {},
   "source": []
  },
  {
   "cell_type": "code",
   "execution_count": 27,
   "metadata": {},
   "outputs": [
    {
     "ename": "NameError",
     "evalue": "name 'est' is not defined",
     "output_type": "error",
     "traceback": [
      "\u001b[0;31m---------------------------------------------------------------------------\u001b[0m",
      "\u001b[0;31mNameError\u001b[0m                                 Traceback (most recent call last)",
      "\u001b[1;32m/Volumes/GoogleDrive-108720290059105288703/My Drive/Spring 2022/530/week 4/Regularized Regressions.ipynb Cell 24'\u001b[0m in \u001b[0;36m<module>\u001b[0;34m\u001b[0m\n\u001b[1;32m     <a href='vscode-notebook-cell:/Volumes/GoogleDrive-108720290059105288703/My%20Drive/Spring%202022/530/week%204/Regularized%20Regressions.ipynb#ch0000023?line=28'>29</a>\u001b[0m \u001b[39m## 5 fold cross validation ( the default method)\u001b[39;00m\n\u001b[1;32m     <a href='vscode-notebook-cell:/Volumes/GoogleDrive-108720290059105288703/My%20Drive/Spring%202022/530/week%204/Regularized%20Regressions.ipynb#ch0000023?line=29'>30</a>\u001b[0m en_scores \u001b[39m=\u001b[39m cross_val_score(en, X, Y, cv \u001b[39m=\u001b[39m \u001b[39m5\u001b[39m)\n\u001b[0;32m---> <a href='vscode-notebook-cell:/Volumes/GoogleDrive-108720290059105288703/My%20Drive/Spring%202022/530/week%204/Regularized%20Regressions.ipynb#ch0000023?line=31'>32</a>\u001b[0m estimates[fold] \u001b[39m=\u001b[39m (est)\n",
      "\u001b[0;31mNameError\u001b[0m: name 'est' is not defined"
     ]
    }
   ],
   "source": [
    "n_trials = 10\n",
    "\n",
    "estimates = {}\n",
    "\n",
    "for i in range(n_trials):\n",
    "    \n",
    "    X = df.drop([\"y\"], axis = 1)\n",
    "    Y = df[\"y\"]\n",
    "\n",
    "    lasso = linear_model.Lasso(max_iter = 4000)\n",
    "    #lasso.fit(X, Y)\n",
    "    lasso_scores = cross_val_score(lasso, X, Y, cv = 5)\n",
    "    \n",
    "    ridge = RidgeCV()\n",
    "    #ridge.fit(X, Y)\n",
    "    ## 5 fold cross validation ( the default method)\n",
    "    ridge_scores = cross_val_score(ridge, X, Y, cv = 5)\n",
    "\n",
    "    ols = LinearRegression().fit(X, Y)\n",
    "    ols_pred = ols.predict(X)\n",
    "    ## 5 fold cross validation ( the default method)\n",
    "    ols_scores = cross_val_score(ols, X, Y, cv = 5)\n",
    "\n",
    "    en = ElasticNetCV()\n",
    "    en.fit(X, Y)\n",
    "\n",
    "    en_pred = en.predict(X)\n",
    "\n",
    "    ## 5 fold cross validation ( the default method)\n",
    "    en_scores = cross_val_score(en, X, Y, cv = 5)\n",
    "\n",
    "    estimates[fold] = (est)"
   ]
  },
  {
   "cell_type": "code",
   "execution_count": null,
   "metadata": {},
   "outputs": [],
   "source": [
    "start = 15\n",
    "N = 500\n",
    "\n",
    "est_lasso = []\n",
    "est_ridge = []\n",
    "est_ols = []\n",
    "est_en = []\n",
    "\n",
    "for size in range(start, N):\n",
    "    # Create a new data set each round\n",
    "    x0 = np.random.normal(size = size) \n",
    "    x1 = np.random.normal(size = size) \n",
    "    x2 = np.random.normal(size = size) \n",
    "    x3 = np.random.normal(size = size) \n",
    "    x4 = np.random.normal(size = size) \n",
    "    x5 = np.random.normal(size = size)\n",
    "\n",
    "    df = pd.DataFrame({\"x0\":x0, \"x1\":x1, \"x2\":x2,\"x3\":x3,\"x4\":x4,\"x5\":x5})\n",
    "\n",
    "    df[\"y\"] = 0.3*df[\"x0\"] -0.08*df[\"x1\"] + 0.1*df[\"x2\"] + 0.5*df[\"x3\"]  -0.84*df[\"x4\"] + 0.07*df[\"x5\"] + pd.Series(np.random.normal( scale = 2, size = size))\n",
    "    \n",
    "    # get the dependent and independent variables separetly\n",
    "    X = df.drop(['y'], axis =1)\n",
    "    Y = df[\"y\"]\n",
    "    # Fit the regression using the most efficient number of cross validation folds and use this number of folds to get the performance score\n",
    "    lasso = linear_model.LassoCV(max_iter = 6000)\n",
    "    lasso.fit(X,Y)\n",
    "    lasso_scores = lasso.score(X,Y)\n",
    "\n",
    "    ridge = RidgeCV()\n",
    "    ridge.fit(X, Y)\n",
    "    ridge_scores = ridge.score(X,Y)\n",
    "\n",
    "    ols = LinearRegression().fit(X, Y)\n",
    "\n",
    "    ols_scores = cross_val_score(ols, X, Y)\n",
    "    en = ElasticNetCV()\n",
    "    en.fit(X, Y)\n",
    "\n",
    "    ## 5 fold cross validation ( the default method)\n",
    "    en_scores = en.score(X,Y) \n",
    "\n",
    "    est_lasso.append(lasso_scores)\n",
    "    est_ridge.append(ridge_scores)\n",
    "    est_ols.append(ols_scores)\n",
    "    est_en.append(en_scores)"
   ]
  },
  {
   "cell_type": "code",
   "execution_count": null,
   "metadata": {},
   "outputs": [],
   "source": [
    "def get_mean(estimate):\n",
    "    means = np.array([*map(np.mean, estimate)])\n",
    "    sds = np.array([*map(np.std, estimate)])\n",
    "    lower_bound = means - sds\n",
    "    upper_bound = means + sds\n",
    "    return means, sds, lower_bound, upper_bound\n",
    "\n",
    "mean_ols, sds_ols, lb_ols, up_ols =  get_mean(est_ols)"
   ]
  },
  {
   "cell_type": "code",
   "execution_count": null,
   "metadata": {},
   "outputs": [
    {
     "data": {
      "text/plain": [
       "Text(0.5, 1.0, 'Lasso regression performance, as the number of data poitns increased')"
      ]
     },
     "execution_count": 21,
     "metadata": {},
     "output_type": "execute_result"
    },
    {
     "data": {
      "image/png": "[encoded data removed]",
      "text/plain": [
       "<Figure size 432x288 with 1 Axes>"
      ]
     },
     "metadata": {
      "needs_background": "light"
     },
     "output_type": "display_data"
    }
   ],
   "source": [
    "x_axis = np.linspace(start, N, len(est_lasso))\n",
    "\n",
    "sns.lineplot(x = x_axis, y = est_lasso)\n",
    "#plt.fill_between(x_axis, lb_lasso, up_lasso, alpha =0.3)\n",
    "plt.ylabel('R^2')\n",
    "plt.xlabel('N')\n",
    "plt.title('Lasso regression performance as N increases')"
   ]
  },
  {
   "cell_type": "code",
   "execution_count": null,
   "metadata": {},
   "outputs": [
    {
     "data": {
      "text/plain": [
       "Text(0, 0.5, 'R^2')"
      ]
     },
     "execution_count": 22,
     "metadata": {},
     "output_type": "execute_result"
    },
    {
     "data": {
      "image/png": "[encoded data removed]",
      "text/plain": [
       "<Figure size 432x288 with 1 Axes>"
      ]
     },
     "metadata": {
      "needs_background": "light"
     },
     "output_type": "display_data"
    }
   ],
   "source": [
    "sns.lineplot(x = x_axis, y = est_ridge)\n",
    "plt.title('Ridge regression performance as the N increases')\n",
    "plt.ylabel('R^2')"
   ]
  },
  {
   "cell_type": "code",
   "execution_count": null,
   "metadata": {},
   "outputs": [
    {
     "data": {
      "text/plain": [
       "Text(0.5, 0, 'N')"
      ]
     },
     "execution_count": 33,
     "metadata": {},
     "output_type": "execute_result"
    },
    {
     "data": {
      "image/png": "[encoded data removed]",
      "text/plain": [
       "<Figure size 432x288 with 1 Axes>"
      ]
     },
     "metadata": {
      "needs_background": "light"
     },
     "output_type": "display_data"
    }
   ],
   "source": [
    "sns.lineplot(x = x_axis[:100], y = mean_ols[:100])\n",
    "plt.ylabel('R^2')\n",
    "plt.title('OLS model performance as N increases')\n",
    "plt.xlabel('N')"
   ]
  },
  {
   "cell_type": "code",
   "execution_count": null,
   "metadata": {},
   "outputs": [
    {
     "data": {
      "text/plain": [
       "Text(0.5, 0, 'N')"
      ]
     },
     "execution_count": 27,
     "metadata": {},
     "output_type": "execute_result"
    },
    {
     "data": {
      "image/png": "[encoded data removed]",
      "text/plain": [
       "<Figure size 432x288 with 1 Axes>"
      ]
     },
     "metadata": {
      "needs_background": "light"
     },
     "output_type": "display_data"
    }
   ],
   "source": [
    "sns.lineplot(x = x_axis, y = est_en)\n",
    "plt.title('Elastic Net Regression performance as the N increases')\n",
    "plt.ylabel('R^2')\n",
    "plt.xlabel('N')"
   ]
  },
  {
   "cell_type": "code",
   "execution_count": 28,
   "metadata": {},
   "outputs": [],
   "source": [
    "start = 15\n",
    "N = 400\n",
    "\n",
    "lasso_per = []\n",
    "ridge_per = []\n",
    "ols_per = []\n",
    "en_per = []\n",
    "\n",
    "def df_create(n,k):\n",
    "    #df = pd.DataFrame()\n",
    "    cols = []\n",
    "    col_names = []\n",
    "    for var in range(k):\n",
    "        cols.append(np.random.normal(size =n))\n",
    "        col_names.append(f'x{var}')\n",
    "    df = pd.DataFrame.from_records(np.transpose(cols), columns=col_names)\n",
    "    return df\n",
    "\n",
    "for k in [2, 20, 200]:\n",
    "\n",
    "    for size in range(start, N):\n",
    "        df = df_create(size,k)\n",
    "        df['y'] = 0\n",
    "        for col in range(len(df.columns) -1):\n",
    "            df['y'] += np.random.normal(scale = 5)*df[f'x{col}']\n",
    "            # add the random noise \n",
    "        df['y'] += pd.Series(np.random.normal( scale = 2, size = size))\n",
    "        # Create a new data set each round\n",
    "     \n",
    "        # get the dependent and independent variables separetly\n",
    "        X = df.drop(['y'], axis =1)\n",
    "        Y = df[\"y\"]\n",
    "        # Fit the regression using the most efficient number of cross validation folds and use this number of folds to get the performance score\n",
    "        lasso = linear_model.LassoCV(max_iter = 6000)\n",
    "        lasso.fit(X,Y)\n",
    "        lasso_scores = lasso.score(X,Y)\n",
    "\n",
    "        ridge = RidgeCV()\n",
    "        ridge.fit(X, Y)\n",
    "        ridge_scores = ridge.score(X,Y)\n",
    "\n",
    "        ols = LinearRegression().fit(X, Y)\n",
    "\n",
    "        ols_scores = cross_val_score(ols, X, Y)\n",
    "        en = ElasticNetCV()\n",
    "        en.fit(X, Y)\n",
    "\n",
    "        ## 5 fold cross validation ( the default method)\n",
    "        en_scores = en.score(X,Y) \n",
    "\n",
    "        lasso_per.append(lasso_scores)\n",
    "        ridge_per.append(ridge_scores)\n",
    "        ols_per.append(ols_scores)\n",
    "        en_per.append(en_scores)"
   ]
  },
  {
   "cell_type": "code",
   "execution_count": 29,
   "metadata": {},
   "outputs": [
    {
     "data": {
      "text/html": [
       "<div>\n",
       "<style scoped>\n",
       "    .dataframe tbody tr th:only-of-type {\n",
       "        vertical-align: middle;\n",
       "    }\n",
       "\n",
       "    .dataframe tbody tr th {\n",
       "        vertical-align: top;\n",
       "    }\n",
       "\n",
       "    .dataframe thead th {\n",
       "        text-align: right;\n",
       "    }\n",
       "</style>\n",
       "<table border=\"1\" class=\"dataframe\">\n",
       "  <thead>\n",
       "    <tr style=\"text-align: right;\">\n",
       "      <th></th>\n",
       "      <th>performance</th>\n",
       "      <th>model</th>\n",
       "      <th>k</th>\n",
       "    </tr>\n",
       "  </thead>\n",
       "  <tbody>\n",
       "    <tr>\n",
       "      <th>0</th>\n",
       "      <td>0.543208</td>\n",
       "      <td>lasso</td>\n",
       "      <td>2</td>\n",
       "    </tr>\n",
       "    <tr>\n",
       "      <th>1</th>\n",
       "      <td>0.656426</td>\n",
       "      <td>lasso</td>\n",
       "      <td>2</td>\n",
       "    </tr>\n",
       "    <tr>\n",
       "      <th>2</th>\n",
       "      <td>0.924417</td>\n",
       "      <td>lasso</td>\n",
       "      <td>2</td>\n",
       "    </tr>\n",
       "    <tr>\n",
       "      <th>3</th>\n",
       "      <td>0.74305</td>\n",
       "      <td>lasso</td>\n",
       "      <td>2</td>\n",
       "    </tr>\n",
       "    <tr>\n",
       "      <th>4</th>\n",
       "      <td>0.769665</td>\n",
       "      <td>lasso</td>\n",
       "      <td>2</td>\n",
       "    </tr>\n",
       "  </tbody>\n",
       "</table>\n",
       "</div>"
      ],
      "text/plain": [
       "  performance  model  k\n",
       "0    0.543208  lasso  2\n",
       "1    0.656426  lasso  2\n",
       "2    0.924417  lasso  2\n",
       "3     0.74305  lasso  2\n",
       "4    0.769665  lasso  2"
      ]
     },
     "execution_count": 29,
     "metadata": {},
     "output_type": "execute_result"
    }
   ],
   "source": [
    "plot_k = pd.DataFrame({'performance': lasso_per + ridge_per + ols_per + en_per, 'model': ['lasso']*len(lasso_per) + ['ridge']*len(ridge_per) + ['ols']*len(ols_per) + ['EN']*len(en_per),\n",
    "'k': [2]*385 + [20]*385 + [200]*385 +[2]*385 + [20]*385 + [200]*385+[2]*385 + [20]*385 + [200]*385+[2]*385 + [20]*385 + [200]*385})\n",
    "plot_k['N'] = pd.Series()\n",
    "plot_k.head()"
   ]
  },
  {
   "cell_type": "code",
   "execution_count": 34,
   "metadata": {},
   "outputs": [
    {
     "data": {
      "text/plain": [
       "Text(0.5, 0, 'N')"
      ]
     },
     "execution_count": 34,
     "metadata": {},
     "output_type": "execute_result"
    },
    {
     "data": {
      "image/png": "[encoded data removed]",
      "text/plain": [
       "<Figure size 432x288 with 1 Axes>"
      ]
     },
     "metadata": {
      "needs_background": "light"
     },
     "output_type": "display_data"
    }
   ],
   "source": [
    "sns.lineplot(data = plot_k[:385*3], x =np.linspace(0, 385*3, 385*3), y = 'performance', hue = 'k')\n",
    "plt.xlabel('N')\n"
   ]
  },
  {
   "cell_type": "code",
   "execution_count": null,
   "metadata": {},
   "outputs": [],
   "source": [
    "plt.plot(np.linspace(0, 385, len(plot_k)), plot_k.performance)"
   ]
  },
  {
   "cell_type": "code",
   "execution_count": null,
   "metadata": {},
   "outputs": [],
   "source": [
    "def df_create(n,k):\n",
    "    df = pd.DataFrame()\n",
    "    for var in range(k):\n",
    "        df[f'x{var}'] = np.random.normal(size =n)\n",
    "\n",
    "    return df \n",
    "\n",
    "#df_created = df_create(200, 5)\n",
    "\n",
    "\n",
    "#df_created['y'] = 0\n",
    "#for col in range(len(df_created.columns) -1):\n",
    "#    df_created['y'] += np.random.normal(scale = 5)*df_created[f'x{col}']\n",
    "\n",
    "# df_created.head()\n",
    "\n",
    "#np.random.normal(1)*df_created[['x1']]\n"
   ]
  },
  {
   "cell_type": "code",
   "execution_count": null,
   "metadata": {},
   "outputs": [],
   "source": [
    "k = 3\n",
    "n = 50\n",
    "cols = []\n",
    "col_names = []\n",
    "for var in range(k):\n",
    "    cols.append(np.random.normal(size =n))\n",
    "    col_names.append(f'x{var}')\n",
    "\n",
    "#print(cols, col_names)\n",
    "pd.DataFrame(np.transpose(cols), columns = col_names)"
   ]
  },
  {
   "cell_type": "markdown",
   "metadata": {},
   "source": [
    "Do some extensions.  Some possible ideas:\n",
    "\n",
    "   - Make some of the features correlated (generate some of the columns just like you generated the outcome: as a function of 1 or more other features + some random noise).  Does high correlation (less random noise) lead to problems in estimation or prediction?\n",
    "\n",
    "   - Make some features binary.  Does having it unbalanced change the results much?\n",
    "\n",
    "   - Add in quadratic and interaction effects.  This would require an additional K^2 predictors(!), so LASSO is probably the way to go.  Unless theoretically motivated, it's usually a good assumption that an interaction effect is only detectable if the individual effects are (i.e., don't bother looking for beta_3*x_1*x_2 if beta_2*x_2 and beta_1*x_1 both come up empty-handed ahead of time).  See how well doing LASSO works with all features and interactions, and then compare it to using LASSO with the just the K predictors to find the best predicting features, and then only create the interactions for those relevant ones.\n",
    "\n",
    "    - Have outliers by having the outcome or some columns draw from a t-distribution.  You can tune how many/large the outliers are by changing the degrees of freedom on the t-distribution\n",
    "\n",
    "    - Feel free to explore any other questions or ideas you want to investigate."
   ]
  },
  {
   "cell_type": "markdown",
   "metadata": {},
   "source": []
  },
  {
   "cell_type": "markdown",
   "metadata": {},
   "source": [
    "what happens when there is heteroskedasticity ?\n",
    " -> is unafected"
   ]
  },
  {
   "cell_type": "code",
   "execution_count": 1,
   "metadata": {},
   "outputs": [
    {
     "ename": "NameError",
     "evalue": "name 'df_create' is not defined",
     "output_type": "error",
     "traceback": [
      "\u001b[0;31m---------------------------------------------------------------------------\u001b[0m",
      "\u001b[0;31mNameError\u001b[0m                                 Traceback (most recent call last)",
      "\u001b[1;32m/Volumes/GoogleDrive-108720290059105288703/My Drive/Spring 2022/530/week 4/Regularized Regressions.ipynb Cell 40'\u001b[0m in \u001b[0;36m<module>\u001b[0;34m\u001b[0m\n\u001b[1;32m      <a href='vscode-notebook-cell:/Volumes/GoogleDrive-108720290059105288703/My%20Drive/Spring%202022/530/week%204/Regularized%20Regressions.ipynb#ch0000039?line=7'>8</a>\u001b[0m est_en \u001b[39m=\u001b[39m []\n\u001b[1;32m     <a href='vscode-notebook-cell:/Volumes/GoogleDrive-108720290059105288703/My%20Drive/Spring%202022/530/week%204/Regularized%20Regressions.ipynb#ch0000039?line=9'>10</a>\u001b[0m \u001b[39mfor\u001b[39;00m size \u001b[39min\u001b[39;00m \u001b[39mrange\u001b[39m(start, N):\n\u001b[1;32m     <a href='vscode-notebook-cell:/Volumes/GoogleDrive-108720290059105288703/My%20Drive/Spring%202022/530/week%204/Regularized%20Regressions.ipynb#ch0000039?line=10'>11</a>\u001b[0m     \u001b[39m# Create a new data set each round\u001b[39;00m\n\u001b[0;32m---> <a href='vscode-notebook-cell:/Volumes/GoogleDrive-108720290059105288703/My%20Drive/Spring%202022/530/week%204/Regularized%20Regressions.ipynb#ch0000039?line=11'>12</a>\u001b[0m     df \u001b[39m=\u001b[39m df_create(size,k)\n\u001b[1;32m     <a href='vscode-notebook-cell:/Volumes/GoogleDrive-108720290059105288703/My%20Drive/Spring%202022/530/week%204/Regularized%20Regressions.ipynb#ch0000039?line=12'>13</a>\u001b[0m     df[\u001b[39m'\u001b[39m\u001b[39my\u001b[39m\u001b[39m'\u001b[39m] \u001b[39m=\u001b[39m \u001b[39m0\u001b[39m\n\u001b[1;32m     <a href='vscode-notebook-cell:/Volumes/GoogleDrive-108720290059105288703/My%20Drive/Spring%202022/530/week%204/Regularized%20Regressions.ipynb#ch0000039?line=13'>14</a>\u001b[0m     \u001b[39mfor\u001b[39;00m col \u001b[39min\u001b[39;00m \u001b[39mrange\u001b[39m(\u001b[39mlen\u001b[39m(df\u001b[39m.\u001b[39mcolumns) \u001b[39m-\u001b[39m\u001b[39m1\u001b[39m):\n",
      "\u001b[0;31mNameError\u001b[0m: name 'df_create' is not defined"
     ]
    }
   ],
   "source": [
    "start = 15\n",
    "N = 500\n",
    "k = 10 \n",
    "\n",
    "est_lasso = []\n",
    "est_ridge = []\n",
    "est_ols = []\n",
    "est_en = []\n",
    "\n",
    "for size in range(start, N):\n",
    "    # Create a new data set each round\n",
    "    df = df_create(size,k)\n",
    "    df['y'] = 0\n",
    "    for col in range(len(df.columns) -1):\n",
    "        df['y'] += np.random.normal(scale = 5)*df[f'x{col}']\n",
    "    df['y'] += pd.Series(np.random.normal( scale = 2, size = size))\n",
    "    #Create a correlated variable\n",
    "    df['x10'] = df['x0'] + 3*df['x4']\n",
    "    \n",
    "    # get the dependent and independent variables separetly\n",
    "    X = df.drop(['y'], axis =1)\n",
    "    Y = df[\"y\"]\n",
    "    # Fit the regression using the most efficient number of cross validation folds and use this number of folds to get the performance score\n",
    "    lasso = linear_model.LassoCV(max_iter = 6000)\n",
    "    lasso.fit(X,Y)\n",
    "    lasso_scores = lasso.score(X,Y)\n",
    "\n",
    "    ridge = RidgeCV()\n",
    "    ridge.fit(X, Y)\n",
    "    ridge_scores = ridge.score(X,Y)\n",
    "\n",
    "    ols = LinearRegression().fit(X, Y)\n",
    "\n",
    "    ols_scores = cross_val_score(ols, X, Y)\n",
    "    en = ElasticNetCV()\n",
    "    en.fit(X, Y)\n",
    "\n",
    "    ## 5 fold cross validation ( the default method)\n",
    "    en_scores = en.score(X,Y) \n",
    "\n",
    "    est_lasso.append(lasso_scores)\n",
    "    est_ridge.append(ridge_scores)\n",
    "    est_ols.append(ols_scores)\n",
    "    est_en.append(en_scores)"
   ]
  }
 ],
 "metadata": {
  "interpreter": {
   "hash": "7e1998ff7f8aa20ada591c520b972326324e5ea05489af9e422744c7c09f6dad"
  },
  "kernelspec": {
   "display_name": "Python 3.10.0 64-bit",
   "language": "python",
   "name": "python3"
  },
  "language_info": {
   "codemirror_mode": {
    "name": "ipython",
    "version": 3
   },
   "file_extension": ".py",
   "mimetype": "text/x-python",
   "name": "python",
   "nbconvert_exporter": "python",
   "pygments_lexer": "ipython3",
   "version": "3.10.0"
  },
  "orig_nbformat": 4
 },
 "nbformat": 4,
 "nbformat_minor": 2
}
