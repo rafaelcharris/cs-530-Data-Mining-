{
 "cells": [
  {
   "cell_type": "markdown",
   "metadata": {},
   "source": [
    "# <centered> Week 10"
   ]
  },
  {
   "cell_type": "markdown",
   "metadata": {},
   "source": [
    "## Part 1 Keras NN\n",
    "\n",
    "Use the Keras library to fit a neural network to the housing dataset to predict whether the house sold above or below the median.  You just have to fit the model and find estimate the test accuracy (you can just do a 90/10 split and not run full cross-validation)."
   ]
  },
  {
   "cell_type": "code",
   "execution_count": null,
   "metadata": {},
   "outputs": [],
   "source": [
    "#from keras.models import Sequential\n",
    "#from keras.utils import np_utils\n",
    "#from keras.layers.core import Dense, Activation \n",
    "import keras\n",
    "\n",
    "from sklearn.metrics import accuracy_score \n",
    "from sklearn.model_selection import train_test_split\n",
    "\n",
    "import pandas as pd\n",
    "import numpy as np"
   ]
  },
  {
   "cell_type": "code",
   "execution_count": null,
   "metadata": {},
   "outputs": [],
   "source": [
    "df = pd.read_csv('house_SalePrice.csv')\n",
    "df['above_median'] = df['SalePrice'].apply(lambda x: 1 if x > np.median(df['SalePrice']) else 0)\n",
    "df.drop(['SalePrice'], axis = 1, inplace=True)\n"
   ]
  },
  {
   "cell_type": "code",
   "execution_count": null,
   "metadata": {},
   "outputs": [],
   "source": []
  }
 ],
 "metadata": {
  "interpreter": {
   "hash": "4ff013663e91eaccb34467a9eadf495cdab427d297a346155ee5e65a24b2c05b"
  },
  "kernelspec": {
   "display_name": "tensor_flow_kernel",
   "language": "python",
   "name": "python3"
  },
  "language_info": {
   "codemirror_mode": {
    "name": "ipython",
    "version": 3
   },
   "file_extension": ".py",
   "mimetype": "text/x-python",
   "name": "python",
   "nbconvert_exporter": "python",
   "pygments_lexer": "ipython3",
   "version": "3.9.10"
  },
  "orig_nbformat": 4
 },
 "nbformat": 4,
 "nbformat_minor": 2
}
